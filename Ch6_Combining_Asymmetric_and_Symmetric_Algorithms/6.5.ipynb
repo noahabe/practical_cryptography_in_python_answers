{
 "cells": [
  {
   "cell_type": "markdown",
   "metadata": {},
   "source": [
    "---\n",
    "order: 5\n",
    "title: \"6.5 ECDSA VS RSA SIGNING\"\n",
    "---"
   ]
  },
  {
   "cell_type": "markdown",
   "metadata": {},
   "source": [
    "> Exercise 6.5: ECDSA VS RSA SIGNING \n",
    "> \n",
    "> In addition to testing the speed of MAC vs. RSA \n",
    "> signing, also compare the speed of RSA signing with ECDSA \n",
    "> signing. It's hard to get a fair comparison because it isn't \n",
    "> always obvious what your key size is with ECDSA, but look \n",
    "> at the list of supported curves in the `cryptography` library \n",
    "> documentation and try them out to see which ones are faster \n",
    "> in general, as well as how they compare to RSA signing \n",
    "> using different modulus sizes. \n",
    "\n",
    "--------------------------------"
   ]
  },
  {
   "cell_type": "code",
   "execution_count": null,
   "metadata": {},
   "outputs": [],
   "source": []
  }
 ],
 "metadata": {
  "language_info": {
   "name": "python"
  }
 },
 "nbformat": 4,
 "nbformat_minor": 2
}
