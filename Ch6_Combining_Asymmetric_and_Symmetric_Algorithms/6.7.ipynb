{
 "cells": [
  {
   "cell_type": "markdown",
   "metadata": {},
   "source": [
    "---\n",
    "order: 7\n",
    "title: \"6.7 RUDIMENTARY ECDH EXCHANGE\"\n",
    "---"
   ]
  },
  {
   "cell_type": "markdown",
   "metadata": {},
   "source": [
    "> EXERCISE 6.7: RUDIMENTARY ECDH EXCHANGE \n",
    "> \n",
    "> Use the `ECDHExchange` class to create shared keys between two parties. You \n",
    "> will need to have two instances of the program running. Each program should write\n",
    "> their public key bytes to disk for the other program to load. When they're finished, \n",
    "> have them print out the bytes of the shared keys so that you can verify that \n",
    "> they both come up with the same key. \n",
    "\n",
    "--------------------------------"
   ]
  },
  {
   "cell_type": "code",
   "execution_count": null,
   "metadata": {},
   "outputs": [],
   "source": []
  }
 ],
 "metadata": {
  "language_info": {
   "name": "python"
  }
 },
 "nbformat": 4,
 "nbformat_minor": 2
}
