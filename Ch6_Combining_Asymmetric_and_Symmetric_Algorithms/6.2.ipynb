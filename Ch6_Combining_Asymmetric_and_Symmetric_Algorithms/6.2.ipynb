{
 "cells": [
  {
   "cell_type": "markdown",
   "metadata": {},
   "source": [
    "---\n",
    "order: 2\n",
    "title: \"6.2 RSA RACING!\"\n",
    "---"
   ]
  },
  {
   "cell_type": "markdown",
   "metadata": {},
   "source": [
    "> EXERCISE 6.2: RSA RACING! \n",
    "> \n",
    "> Use your preceding tester to compare the performance of RSA \n",
    "> with a $1024$-bit modulus, a $2048$-bit modulus, and a $4096$-bit \n",
    "> modulus. Plase note, you will need to change your chunk size to $62$ \n",
    "> bytes for $1024$-bit RSA keys with OAEP (and SHA-256 hashing) and \n",
    "> $446$ bytes for $4096$-bit RSA keys with OAEP (and SHA-256) hashing.\n",
    "\n",
    "--------------------------------"
   ]
  },
  {
   "cell_type": "code",
   "execution_count": null,
   "metadata": {},
   "outputs": [],
   "source": []
  }
 ],
 "metadata": {
  "kernelspec": {
   "display_name": "env",
   "language": "python",
   "name": "python3"
  },
  "language_info": {
   "name": "python",
   "version": "3.10.12"
  }
 },
 "nbformat": 4,
 "nbformat_minor": 2
}
