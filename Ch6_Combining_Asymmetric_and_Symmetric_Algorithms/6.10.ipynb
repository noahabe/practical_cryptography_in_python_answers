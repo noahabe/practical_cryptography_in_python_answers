{
 "cells": [
  {
   "cell_type": "markdown",
   "metadata": {},
   "source": [
    "---\n",
    "order: 10\n",
    "title: \"6.10 BECAUSE YOU LOVE TORTURE\"\n",
    "---"
   ]
  },
  {
   "cell_type": "markdown",
   "metadata": {},
   "source": [
    "> EXERCISE 6.10: BECAUSE YOU LOVE TORTURE\n",
    ">\n",
    "> To emphasize that RSA technically could be used as an ephemeral exchange \n",
    "> mechanism, modify your preceding ECDH program to generate an ephemeral \n",
    "> set of RSA keys. Exchange the associate public keys and use each public key \n",
    "> to send 32 bytes of random data to the other party. Combine both 32-byte trasmissions\n",
    "> with XOR to create a \"shared key\" and run it through HKDF just as the ECDH example \n",
    "> does. Once you've proved to yourself that this works, review your results from \n",
    "> [Exercise 6.2](6.2.ipynb) to see why this is too slow to be practical. \n",
    "> \n",
    "> Also, creating a shared key with RSA encryption requires a round trip to create \n",
    "> the key (transmission of certificate and reception of encrypted key), whereas \n",
    "> DH and ECDH only require one transmission from each party to the other. When we \n",
    "> learn about TLS 1.3, for example, you'll see how this can greatly impact performance. \n",
    "\n",
    "--------------------------------"
   ]
  }
 ],
 "metadata": {
  "language_info": {
   "name": "python"
  }
 },
 "nbformat": 4,
 "nbformat_minor": 2
}
