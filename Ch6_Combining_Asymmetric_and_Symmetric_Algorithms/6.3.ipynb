{
 "cells": [
  {
   "cell_type": "markdown",
   "metadata": {},
   "source": [
    "---\n",
    "order: 3\n",
    "title: \"6.3 COUNTERS VS. CHAINS!\"\n",
    "---"
   ]
  },
  {
   "cell_type": "markdown",
   "metadata": {},
   "source": [
    "> EXERCISE 6.3: COUNTERS VS. CHAINS!\n",
    "> \n",
    "> Use your tester to compare the performance of AES-CTR against AES-CBC. \n",
    "\n",
    "--------------------------------"
   ]
  },
  {
   "cell_type": "code",
   "execution_count": null,
   "metadata": {},
   "outputs": [],
   "source": []
  }
 ],
 "metadata": {
  "language_info": {
   "name": "python"
  }
 },
 "nbformat": 4,
 "nbformat_minor": 2
}
