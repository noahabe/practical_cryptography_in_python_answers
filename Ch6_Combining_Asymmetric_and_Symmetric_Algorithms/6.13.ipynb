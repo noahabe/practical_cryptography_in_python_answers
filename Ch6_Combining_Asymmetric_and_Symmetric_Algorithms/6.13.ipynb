{
 "cells": [
  {
   "cell_type": "markdown",
   "metadata": {},
   "source": [
    "---\n",
    "order: 13\n",
    "title: \"6.13 PLAYING THE VILLAN\"\n",
    "---"
   ]
  },
  {
   "cell_type": "markdown",
   "metadata": {},
   "source": [
    "> EXERCISE 6.13: PLAYING THE VILLAN\n",
    "> \n",
    "> Help Alice and Bob create some ransomware to infect WA servers. \n",
    "> Start by creating a function that will encrypt a file on disk \n",
    "> using an algorithm of your choice (e.g., AES-CTR or AES-CBC). \n",
    "> The encrypted data should be saved to a new file with some kind of random\n",
    "> name. Before moving on, test encrypting and decrypting the file. \n",
    "> \n",
    "> Next, create the fake malware. This malware should be configured \n",
    "> with a target directory and the permanent public key. The public key \n",
    "> can be hard-coded directly into the code if you wish. Once up and running, \n",
    "> it needs to generate a new RSA key pair, encrypt the local private key with the \n",
    "> permanent public key, and delte any unencrypted copies of the \n",
    "> local private key. If the private key is too big (e.g., more than 190)\n",
    "> encrypt it in chunks. \n",
    "> \n",
    "> Once the local key pair is generated, begin encrypting the files in the \n",
    "> target directory. As an extract precaution, you can ask for manual approval \n",
    "> before encrypting each file to make sure you don't accidentlly encrypt the \n",
    "> whole thing. For each file, encrypt it under a new random name and store \n",
    "> a plaintext metadata file with the original name of the file, the encrypted\n",
    "> key, and IV. Delete the original file if you feel that you can do so \n",
    "> safely (we will **NOT** be held responsible for any mistakes on your part!\n",
    "> Use a VM, only operate in a target directory on copies of unimportant files, \n",
    "> and manually confirm each deletion!)\n",
    "> \n",
    "> The rest should be straightforward. Your \"malware\" utility needs to save \n",
    "> the encrypted private key to disk. This should be decrypted by a separate command \n",
    "> and control utility that has access to the permanent private key. Once \n",
    "> decrypted, it should be loaded by the malware and used to decrypt/release \n",
    "> the files. \n",
    "\n",
    "--------------------------------"
   ]
  },
  {
   "cell_type": "markdown",
   "metadata": {},
   "source": [
    "You are not getting a ransomware code from me!!\n",
    "\n",
    "Even if you have the knowledge to create a ransomware, \n",
    "don't be stupid, don't be evil!!!"
   ]
  }
 ],
 "metadata": {
  "language_info": {
   "name": "python"
  }
 },
 "nbformat": 4,
 "nbformat_minor": 2
}
