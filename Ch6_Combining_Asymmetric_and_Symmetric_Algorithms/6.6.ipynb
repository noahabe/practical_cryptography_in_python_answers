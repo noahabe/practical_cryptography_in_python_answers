{
 "cells": [
  {
   "cell_type": "markdown",
   "metadata": {},
   "source": [
    "---\n",
    "order: 6\n",
    "title: \"6.6 OFF TO THE RACES!\"\n",
    "---"
   ]
  },
  {
   "cell_type": "markdown",
   "metadata": {},
   "source": [
    "> EXERCISE 6.6: OFF TO THE RACES! \n",
    "> \n",
    "> Write a python program to generate a thousand or so $2048$-bit RSA private keys and \n",
    "> a program to generate a thousand or so DH and ECDH keys. How does the performance compare?\n",
    "\n",
    "--------------------------------"
   ]
  },
  {
   "cell_type": "markdown",
   "metadata": {},
   "source": [
    "Obivously generating DH & ECDH keys will be way much faster than generating \n",
    "RSA keys. But why is that??\n",
    "\n",
    "Once the public parameters are established in DH, i.e. a generator and a \n",
    "2048 bit prime number (which can take a significant time to generate), one can \n",
    "generate as many private and public Diffie-Hellman keys at the speed of \n",
    "**modular exponentiation (which is really fast)**. \n",
    "\n",
    "On the other hand when we generate a 2048 bit RSA key, we are generating 2 huge\n",
    "private numbers, which is way slow when compared to modular exponentation. "
   ]
  }
 ],
 "metadata": {
  "language_info": {
   "name": "python"
  }
 },
 "nbformat": 4,
 "nbformat_minor": 2
}
