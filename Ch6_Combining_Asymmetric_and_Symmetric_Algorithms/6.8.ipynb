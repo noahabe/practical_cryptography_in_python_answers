{
 "cells": [
  {
   "cell_type": "markdown",
   "metadata": {},
   "source": [
    "---\n",
    "order: 8\n",
    "title: \"6.8 NETWORK ECDH EXCHANGE\"\n",
    "---"
   ]
  },
  {
   "cell_type": "markdown",
   "metadata": {},
   "source": [
    "> EXERCISE 6.8 NETWORK ECDH EXCHANGE\n",
    "> \n",
    "> In the upcoming chapters, we will start using the network to exchange\n",
    "> data between two peers. If you already know how to do some client-server \n",
    "> programming, modify the pervious ECDH exchange program to send the public data \n",
    "> over the network instead of saving it to disk.\n",
    "\n",
    "--------------------------------"
   ]
  }
 ],
 "metadata": {
  "language_info": {
   "name": "python"
  }
 },
 "nbformat": 4,
 "nbformat_minor": 2
}
