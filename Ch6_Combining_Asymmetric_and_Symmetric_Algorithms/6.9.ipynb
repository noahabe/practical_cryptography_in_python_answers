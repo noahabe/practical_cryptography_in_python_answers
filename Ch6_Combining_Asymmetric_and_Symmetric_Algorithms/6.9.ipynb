{
 "cells": [
  {
   "cell_type": "markdown",
   "metadata": {},
   "source": [
    "---\n",
    "order: 9\n",
    "title: \"6.9 ECDH LEFT TO THE READER\"\n",
    "---"
   ]
  },
  {
   "cell_type": "markdown",
   "metadata": {},
   "source": [
    "> EXERCISE 6.9 ECDH LEFT TO THE READER\n",
    "> \n",
    "> We did not show code for verifying the public parameters received in the \n",
    "> `AuthenticatedECDHExchange` class. Luckily for you, we've left it as an exercise \n",
    "> to the reader! Update the `generate_session_key` method to be `generate_authenticated_session_key`. \n",
    "> This method should implement the algorithm previously described for getting the signature \n",
    "> length, verifying the signature using a public key, and then deriving the session keys. \n",
    "\n",
    "--------------------------------"
   ]
  },
  {
   "cell_type": "code",
   "execution_count": 16,
   "metadata": {},
   "outputs": [],
   "source": [
    "from cryptography.hazmat.backends import default_backend\n",
    "from cryptography.hazmat.primitives import hashes, serialization\n",
    "from cryptography.hazmat.primitives.asymmetric import ec\n",
    "from cryptography.hazmat.primitives.kdf.hkdf import HKDF\n",
    "import struct \n",
    "\n",
    "class AuthenticatedECDHExchange:\n",
    "    def __init__(self, curve: ec.EllipticCurve, my_auth_private_key: ec.EllipticCurvePrivateKey, peers_auth_public_key: ec.EllipticCurvePublicKey):\n",
    "        self._curve = curve\n",
    "\n",
    "        # Generate an ephemeral private key for use in the exchange.\n",
    "        self._private_key = ec.generate_private_key(\n",
    "            curve, default_backend())\n",
    "\n",
    "        self.enc_key = None\n",
    "        self.mac_key = None\n",
    "\n",
    "        # long term keys used for authentication.\n",
    "        self._my_auth_private_key = my_auth_private_key\n",
    "        self._peers_auth_public_key = peers_auth_public_key \n",
    "\n",
    "    def get_signed_public_bytes(self) -> bytes:\n",
    "        public_key = self._private_key.public_key()\n",
    "\n",
    "        raw_bytes = public_key.public_bytes(\n",
    "            encoding=serialization.Encoding.PEM,\n",
    "            format=serialization.PublicFormat.SubjectPublicKeyInfo)\n",
    "        \n",
    "        # This is a signature to prove who we are. \n",
    "        signature = self._my_auth_private_key.sign(\n",
    "            data = raw_bytes, \n",
    "            signature_algorithm=ec.ECDSA(hashes.SHA256())\n",
    "        )\n",
    "\n",
    "        return struct.pack('I', len(signature)) + raw_bytes + signature \n",
    "\n",
    "    def generate_authenticated_session_key(self, signed_peer_bytes: bytes) -> None:\n",
    "        # let l be the length of I, unsigned int, probably equal to 4.\n",
    "        l = struct.calcsize('I')\n",
    "\n",
    "        len_of_signature, = struct.unpack('I', signed_peer_bytes[:l])\n",
    "        peer_bytes, signature = signed_peer_bytes[l:(-len_of_signature)], signed_peer_bytes[(-len_of_signature):]\n",
    "\n",
    "        self._peers_auth_public_key.verify(\n",
    "            signature=signature,\n",
    "            data=peer_bytes, \n",
    "            signature_algorithm=ec.ECDSA(hashes.SHA256()),\n",
    "        )\n",
    "\n",
    "        peer_public_key = serialization.load_pem_public_key(\n",
    "            peer_bytes,\n",
    "            backend=default_backend())\n",
    "        shared_key = self._private_key.exchange(\n",
    "            ec.ECDH(),\n",
    "            peer_public_key)\n",
    "\n",
    "        # derive 64 bytes of key material for 2 32-byte keys\n",
    "        key_material = HKDF(\n",
    "            algorithm=hashes.SHA256(),\n",
    "            length=64,\n",
    "            salt=None,\n",
    "            info=None,\n",
    "            backend=default_backend()).derive(shared_key)\n",
    "\n",
    "        # get the encryption key\n",
    "        self.enc_key = key_material[:32]\n",
    "\n",
    "        # derive an MAC key\n",
    "        self.mac_key = key_material[32:64]\n",
    "\n",
    "\n"
   ]
  },
  {
   "cell_type": "markdown",
   "metadata": {},
   "source": [
    "Let's generate a private and public ECDSA keys for Alice."
   ]
  },
  {
   "cell_type": "code",
   "execution_count": 17,
   "metadata": {},
   "outputs": [],
   "source": [
    "alice_private_key = ec.generate_private_key(curve=ec.SECP384R1(), backend=default_backend())\n",
    "alice_public_key = alice_private_key.public_key()"
   ]
  },
  {
   "cell_type": "markdown",
   "metadata": {},
   "source": [
    "Let's do the same thing for Bob."
   ]
  },
  {
   "cell_type": "code",
   "execution_count": 18,
   "metadata": {},
   "outputs": [],
   "source": [
    "bob_private_key = ec.generate_private_key(curve=ec.SECP384R1(), backend=default_backend())\n",
    "bob_public_key = bob_private_key.public_key()"
   ]
  },
  {
   "cell_type": "markdown",
   "metadata": {},
   "source": [
    "Assume they know each other's public key. That is, Alice knows Bob's public key and vice versa."
   ]
  },
  {
   "cell_type": "markdown",
   "metadata": {},
   "source": [
    "Now, let them exchange keys with ECDH: "
   ]
  },
  {
   "cell_type": "code",
   "execution_count": 19,
   "metadata": {},
   "outputs": [],
   "source": [
    "alice_ecdh = AuthenticatedECDHExchange(\n",
    "    curve=ec.SECP384R1(), \n",
    "    my_auth_private_key=alice_private_key, \n",
    "    peers_auth_public_key=bob_public_key,\n",
    ")"
   ]
  },
  {
   "cell_type": "code",
   "execution_count": 20,
   "metadata": {},
   "outputs": [],
   "source": [
    "bob_ecdh = AuthenticatedECDHExchange(\n",
    "    curve=ec.SECP384R1(),\n",
    "    my_auth_private_key=bob_private_key, \n",
    "    peers_auth_public_key=alice_public_key,\n",
    ")"
   ]
  },
  {
   "cell_type": "code",
   "execution_count": 21,
   "metadata": {},
   "outputs": [],
   "source": [
    "alice_ecdh.generate_authenticated_session_key(bob_ecdh.get_signed_public_bytes())\n",
    "bob_ecdh.generate_authenticated_session_key(alice_ecdh.get_signed_public_bytes())"
   ]
  },
  {
   "cell_type": "code",
   "execution_count": 23,
   "metadata": {},
   "outputs": [
    {
     "name": "stdout",
     "output_type": "stream",
     "text": [
      "[PASS]\n"
     ]
    }
   ],
   "source": [
    "if alice_ecdh.enc_key and alice_ecdh.mac_key and alice_ecdh.enc_key == bob_ecdh.enc_key and alice_ecdh.mac_key == bob_ecdh.mac_key:\n",
    "    print(\"[PASS]\")\n",
    "else:\n",
    "    print(\"[FAIL]\")"
   ]
  },
  {
   "cell_type": "code",
   "execution_count": 24,
   "metadata": {},
   "outputs": [
    {
     "name": "stdout",
     "output_type": "stream",
     "text": [
      "SessionKeys\n",
      "-----------\n",
      "Encryption Key: 4b fe 71 65 d2 29 68 39 94 53 4d 9c 47 5b 62 24 ab 14 3e f5 d0 1a c0 22 fc cd f0 b0 08 9d ff 80\n",
      "MAC Key: ff 91 1e 07 8b 10 bd 4a a3 de b5 a8 c6 ad 5e d9 e2 23 88 f1 13 65 37 6b e2 6a 73 2e 6a c1 8a 52\n"
     ]
    }
   ],
   "source": [
    "print(\"SessionKeys\")\n",
    "print(\"-----------\")\n",
    "print(f\"Encryption Key: {alice_ecdh.enc_key.hex(' ')}\")\n",
    "print(f\"MAC Key: {alice_ecdh.mac_key.hex(' ')}\")"
   ]
  }
 ],
 "metadata": {
  "kernelspec": {
   "display_name": "env",
   "language": "python",
   "name": "python3"
  },
  "language_info": {
   "codemirror_mode": {
    "name": "ipython",
    "version": 3
   },
   "file_extension": ".py",
   "mimetype": "text/x-python",
   "name": "python",
   "nbconvert_exporter": "python",
   "pygments_lexer": "ipython3",
   "version": "3.10.12"
  }
 },
 "nbformat": 4,
 "nbformat_minor": 2
}
