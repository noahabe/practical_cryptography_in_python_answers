{
 "cells": [
  {
   "cell_type": "markdown",
   "metadata": {},
   "source": [
    "---\n",
    "order: 4\n",
    "title: \"6.4 MACS VS. SIGNATURES\"\n",
    "---"
   ]
  },
  {
   "cell_type": "markdown",
   "metadata": {},
   "source": [
    "> Exercise 6.4: MACS vs SIGNATURES \n",
    "> \n",
    "> Modify your algorithms to sign or apply a MAC to the data \n",
    "> in the `finalize` methods. Try disabling encryption (just have \n",
    "> the update methods return the unmodified plaintext) so that \n",
    "> you can compare only the speed of the MAC and signature. Is the \n",
    "> difference as extreme? Can you think why this is so? \n",
    "\n",
    "--------------------------------"
   ]
  },
  {
   "cell_type": "code",
   "execution_count": null,
   "metadata": {},
   "outputs": [],
   "source": []
  }
 ],
 "metadata": {
  "language_info": {
   "name": "python"
  }
 },
 "nbformat": 4,
 "nbformat_minor": 2
}
