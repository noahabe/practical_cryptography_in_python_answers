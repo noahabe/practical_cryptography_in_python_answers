{
 "cells": [
  {
   "cell_type": "markdown",
   "metadata": {},
   "source": [
    "---\n",
    "order: 11\n",
    "title: \"6.11 EXPLOITING FULL-DUPLEX KEY REUSE\"\n",
    "---"
   ]
  },
  {
   "cell_type": "markdown",
   "metadata": {},
   "source": [
    "> EXERCISE 6.11 EXPLOITING FULL-DUPLEX KEY REUSE \n",
    "> \n",
    "> In previous exercises, you XORed some data together to see if you could \n",
    "> still find patterns, but you didn't actually XOR the two cipher streams \n",
    "> together. Imagine if Alice and Bob used your ECDH exchange and derived \n",
    "> the same key for full-duplex communication. Use the same key to encrypt \n",
    "> some documents together for Alice to send to Bob and for Bob to send to \n",
    "> Alice. XOR the cipher streams together and validate the result is the XOR \n",
    "> of the plaintext. See if you can figure out any patterns from the \n",
    "> XORed data. \n",
    "\n",
    "--------------------------------"
   ]
  },
  {
   "cell_type": "markdown",
   "metadata": {},
   "source": [
    "See [Exercise 3.8](../Ch3_Symmetric_Encryption/3.8.md) & [3.9](../Ch3_Symmetric_Encryption/3.9.md)."
   ]
  }
 ],
 "metadata": {
  "language_info": {
   "name": "python"
  }
 },
 "nbformat": 4,
 "nbformat_minor": 2
}
