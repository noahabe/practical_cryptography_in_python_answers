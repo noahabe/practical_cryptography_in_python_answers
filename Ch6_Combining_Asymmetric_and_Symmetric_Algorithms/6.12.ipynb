{
 "cells": [
  {
   "cell_type": "markdown",
   "metadata": {},
   "source": [
    "---\n",
    "order: 12\n",
    "title: \"6.12 DERIVING ALL THE PIECES\"\n",
    "---"
   ]
  },
  {
   "cell_type": "markdown",
   "metadata": {},
   "source": [
    "> EXERCISE 6.12 DERIVING ALL THE PIECES\n",
    "> \n",
    "> Modify the ECDH exchange program to derive six pieces of information: \n",
    "> a write encryption key, a write IV, a write MAC key, a read decryption key, \n",
    "> a read IV, and a read MAC key. The hard part will be getting both sides to \n",
    "> derive the same keys. Remember, the keys will be derived in the same order. \n",
    "> So how does Alice determine that the first key derived is her write key and \n",
    "> not Bob's write key? One way to do this is to take the first $n$ bytes of each \n",
    "> side's public key bytes as an integer and whoever has the lowest number goes \n",
    "> \"first.\"\n",
    "\n",
    "--------------------------------"
   ]
  },
  {
   "cell_type": "markdown",
   "metadata": {},
   "source": [
    "Start from the code given in [Exercise 6.9](6.9.ipynb). Then instead of generating \n",
    "a key of length $64$ inside of the **HKDF**, you generate $2 * (32 + 16 + 32) = 160$ bytes, \n",
    "and then slice to get the 6 keys. "
   ]
  },
  {
   "cell_type": "markdown",
   "metadata": {},
   "source": [
    "The tip given in the question answers which half of the $160$ bytes belongs \n",
    "to whom. But how about if the first $n$ bytes of each side's ephemeral \n",
    "public key, is the same (it is possible). Then a natural thing to do would be \n",
    "to compare the first $n + 1$ bytes and so on, until they differ. You can start by \n",
    "setting $n = 1$."
   ]
  },
  {
   "cell_type": "markdown",
   "metadata": {},
   "source": [
    "I will leave you with another question. Are the six pieces of information that you generate independent of each other? Recall that, "
   ]
  },
  {
   "cell_type": "code",
   "execution_count": 3,
   "metadata": {},
   "outputs": [
    {
     "name": "stdout",
     "output_type": "stream",
     "text": [
      "shared secret: 2a d7 cb 89 67 9f 6f bc c4 06 7e 4e 6b 9b 38 3e 68 2a 96 d0 a3 c2 72 f3 6e 00 d4 e3 97 ab 93 4a 17 d5 c3 35 bc eb e3 39 69 96 7f 5f 96 d3 a8 f4\n",
      "length: 48\n"
     ]
    }
   ],
   "source": [
    "from cryptography.hazmat.primitives.asymmetric import ec \n",
    "from cryptography.hazmat.backends import default_backend\n",
    "\n",
    "private_key = ec.generate_private_key(ec.SECP384R1(), default_backend())\n",
    "peers_public_key = ec.generate_private_key(ec.SECP384R1(), default_backend()).public_key() \n",
    "\n",
    "shared_secret = private_key.exchange(ec.ECDH(), peers_public_key)\n",
    "\n",
    "print(f\"shared secret: {shared_secret.hex(' ')}\")\n",
    "print(f\"length: {len(shared_secret)}\")"
   ]
  },
  {
   "cell_type": "markdown",
   "metadata": {},
   "source": [
    "Thus we are using $48$ bytes of shared secret to generate $160$ bytes of keys, \n",
    "which is not good security wise. So what should we do????? May be, 🧂🧂??"
   ]
  }
 ],
 "metadata": {
  "kernelspec": {
   "display_name": "env",
   "language": "python",
   "name": "python3"
  },
  "language_info": {
   "codemirror_mode": {
    "name": "ipython",
    "version": 3
   },
   "file_extension": ".py",
   "mimetype": "text/x-python",
   "name": "python",
   "nbconvert_exporter": "python",
   "pygments_lexer": "ipython3",
   "version": "3.10.12"
  }
 },
 "nbformat": 4,
 "nbformat_minor": 2
}
