{
 "cells": [
  {
   "cell_type": "markdown",
   "metadata": {},
   "source": [
    "---\n",
    "order: 8\n",
    "title: \"5.8 RSA RETURNS!\"\n",
    "---"
   ]
  },
  {
   "cell_type": "markdown",
   "metadata": {},
   "source": [
    "> EXERCISE 5.8: RSA RETURNS \n",
    "> \n",
    "> Create an encryption and authentication system for Alice, Bob, and EATSA. \n",
    "> This system needs to be able to generate key pairs and save them to disk \n",
    "> under different operator names. To send a message, it needs to load a \n",
    "> private key of the operator and a public key of the recipient. **The message \n",
    "> to be sent is then signed by the operator's private key.** Then the concatenation\n",
    "> of the sender's name, the message, and the signature **is encrypted**. \n",
    "> \n",
    "> To receive a message, the system loads the private key of the operator and \n",
    "> decrypts the data extracting the sender's name, the message, and the \n",
    "> signature. The sender's public key is loaded to verify the signature over \n",
    "> the message. \n",
    "\n",
    "--------------------------------"
   ]
  },
  {
   "cell_type": "markdown",
   "metadata": {},
   "source": [
    "You can reuse the `rsa_encrypt(m: bytes, public_key: rsa.RSAPublicKey)` \n",
    "and `rsa_decrypt(c: bytes, private_key: rsa.RSAPrivateKey)` functions from \n",
    "[exercise 4.11](../Ch4_Asymmetric_Encryption/4.11.md)."
   ]
  },
  {
   "cell_type": "markdown",
   "metadata": {},
   "source": [
    "You can use the following functions for creating and verifying the signatures:"
   ]
  },
  {
   "cell_type": "code",
   "execution_count": 2,
   "metadata": {},
   "outputs": [],
   "source": [
    "from cryptography.hazmat.backends import default_backend\n",
    "from cryptography.hazmat.primitives.asymmetric import rsa, padding\n",
    "from cryptography.hazmat.primitives import hashes\n",
    "\n",
    "\n",
    "def create_rsa_signature(m: bytes, private_key: rsa.RSAPrivateKey) -> bytes:\n",
    "    return private_key.sign(\n",
    "        data=m,\n",
    "        padding=padding.PSS(\n",
    "            mgf=padding.MGF1(hashes.SHA256()),\n",
    "            salt_length=padding.PSS.MAX_LENGTH,\n",
    "        ),\n",
    "        algorithm=hashes.SHA256(),\n",
    "    )\n",
    "\n",
    "\n",
    "def verify_rsa_signature(m: bytes, public_key: rsa.RSAPublicKey, sig: bytes) -> None:\n",
    "    '''Throws InvalidSignature, if sig is not valid.'''\n",
    "    public_key.verify(\n",
    "        signature=sig,\n",
    "        data=m,\n",
    "        padding=padding.PSS(\n",
    "            mgf=padding.MGF1(hashes.SHA256()),\n",
    "            salt_length=padding.PSS.MAX_LENGTH,\n",
    "        ),\n",
    "        algorithm=hashes.SHA256(),\n",
    "    )"
   ]
  },
  {
   "cell_type": "markdown",
   "metadata": {},
   "source": [
    "You can use the following functions to read/write the keys from the hard disk:"
   ]
  },
  {
   "cell_type": "code",
   "execution_count": 4,
   "metadata": {},
   "outputs": [],
   "source": [
    "from cryptography.hazmat.primitives import serialization\n",
    "import os.path\n",
    "\n",
    "\n",
    "def read_public_key_from_file(fname: str) -> rsa.RSAPublicKey:\n",
    "    if not os.path.exists(fname):\n",
    "        raise FileNotFoundError()\n",
    "\n",
    "    with open(fname, 'rb') as f:\n",
    "        public_key = serialization.load_pem_public_key(\n",
    "            data=f.read(),\n",
    "            backend=default_backend(),\n",
    "        )\n",
    "    return public_key\n",
    "\n",
    "\n",
    "def read_private_key_from_file(fname: str) -> rsa.RSAPrivateKey:\n",
    "    if not os.path.exists(fname):\n",
    "        raise FileNotFoundError()\n",
    "\n",
    "    with open(fname, 'rb') as f:\n",
    "        private_key = serialization.load_pem_private_key(\n",
    "            data=f.read(),\n",
    "            backend=default_backend(),\n",
    "            password=None,\n",
    "        )\n",
    "    return private_key\n",
    "\n",
    "\n",
    "def write_public_key_to_file(fname: str, public_key: rsa.RSAPublicKey) -> None:\n",
    "    with open(fname, 'wb') as f:\n",
    "        f.write(\n",
    "            public_key.public_bytes(\n",
    "                encoding=serialization.Encoding.PEM,\n",
    "                format=serialization.PublicFormat.SubjectPublicKeyInfo,\n",
    "            )\n",
    "        )\n",
    "\n",
    "\n",
    "def write_private_key_to_file(fname: str, private_key: rsa.RSAPrivateKey) -> None:\n",
    "    with open(fname, 'wb') as f:\n",
    "        f.write(\n",
    "            private_key.private_bytes(\n",
    "                encoding=serialization.Encoding.PEM,\n",
    "                format=serialization.PrivateFormat.TraditionalOpenSSL,\n",
    "                encryption_algorithm=serialization.NoEncryption(),\n",
    "            )\n",
    "        )"
   ]
  }
 ],
 "metadata": {
  "kernelspec": {
   "display_name": "env",
   "language": "python",
   "name": "python3"
  },
  "language_info": {
   "codemirror_mode": {
    "name": "ipython",
    "version": 3
   },
   "file_extension": ".py",
   "mimetype": "text/x-python",
   "name": "python",
   "nbconvert_exporter": "python",
   "pygments_lexer": "ipython3",
   "version": "3.10.12"
  }
 },
 "nbformat": 4,
 "nbformat_minor": 2
}
