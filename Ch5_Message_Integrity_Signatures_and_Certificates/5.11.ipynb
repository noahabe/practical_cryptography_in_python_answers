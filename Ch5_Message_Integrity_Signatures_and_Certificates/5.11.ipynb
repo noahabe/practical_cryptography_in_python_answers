{
 "cells": [
  {
   "cell_type": "markdown",
   "metadata": {},
   "source": [
    "---\n",
    "order: 11\n",
    "title: \"5.11 THE CHAINS WE FORGED IN LIFE\"\n",
    "---"
   ]
  },
  {
   "cell_type": "markdown",
   "metadata": {},
   "source": [
    "> EXERCISE 5.11: THE CHAINS WE FORGED IN LIFE\n",
    "> \n",
    "> Modify the identity validation programs to support a chain of trust. \n",
    "> First, create some self signed certificates for the EA goverment (at \n",
    "> least two as described previously). The existing issuer script can already \n",
    "> do this. Just make the issuer private key for the self-signed certificate to \n",
    "> be the organization's own private key. Thus, the organization is signing \n",
    "> its own cert, and the private key used to sign the certificate matches the \n",
    "> public key _in_ the certificate. \n",
    "> \n",
    "> Next, create certificates for intermediate CAs such as \"Department of Education\", \n",
    "> \"Department of Defense\", \"Espionage Agency\" and so forth. These certificates should \n",
    "> be signed by the self signed certificates in the previous step. \n",
    "> \n",
    "> Finally, sign certificates for Alice, Bob, and Charlie by the espionage CA. Perhaps \n",
    "> create some certificates for employees of the defense department and the \n",
    "> education department. These certificates should be signed by the appropriate \n",
    "> intermediate CA. \n",
    "> \n",
    "> Now, modify the verification program to take a chain of certificates instead \n",
    "> of just a single certificate. Get rid of the command-line parameter for the \n",
    "> issuer's public key and instead hard-code which of the root certificate filenames \n",
    "> are trusted. To specify the chain of certificates, have the program take the \n",
    "> claimed identity as the first input (as it already does) and then an \n",
    "> arbitrary number of certificates to follow. Each certificate's issuer field \n",
    "> should indicate the next certificate in the chain. For example, to validate \n",
    "> Charlie, there may be three certificates: `charlie.cert`, `espionage.cert`, \n",
    "> `covert_root.cert`. The issuer of `charlie.cert` should have the same subject \n",
    "> name as `espionage.cert` and so forth. The verify program should only accept \n",
    "> an identity if the last certificate in the chain is already trusted. \n",
    "\n",
    "--------------------------------"
   ]
  },
  {
   "cell_type": "markdown",
   "metadata": {},
   "source": [
    "## Creating two self-signed certificates\n",
    "\n",
    "Let's call the keys: \n",
    "\n",
    "* `root1_private.key`, `root1_public.key`\n",
    "* `root2_private.key`, `root2_public.key`\n",
    "\n",
    "![generating keys](5_11_assets/generate_rsa_key_pairs.png)"
   ]
  },
  {
   "cell_type": "markdown",
   "metadata": {},
   "source": [
    "Let's call the certificates: \n",
    "\n",
    "* root1.cert\n",
    "* root2.cert\n",
    "\n",
    "![creating the self signed root certificates](5_11_assets/creating-self-signed-certs.png)\n",
    "\n",
    "The contents of the bash script above is given below: \n",
    "\n",
    "```bash\n",
    "python3 fake_certs_issuer.py root1_private.key fake_cert_authority1 root1_public.key root1.cert\n",
    "python3 fake_certs_issuer.py root2_private.key fake_cert_authority1 root2_public.key root2.cert\n",
    "```\n",
    "\n",
    "The usage of `fake_certs_issuer.py` script is: \n",
    "\n",
    "```\n",
    "Usage: python3 fake_certs_issuer.py <issuer-private-key-file> <certificate-subject> <subject's-public-key-file> <certificate-output-file>\n",
    "```"
   ]
  },
  {
   "cell_type": "markdown",
   "metadata": {},
   "source": [
    "## Creating certs for the departments"
   ]
  },
  {
   "cell_type": "markdown",
   "metadata": {},
   "source": [
    "### Department of Education \n",
    "\n",
    "![creating certificates for doe](5_11_assets/create_cert_for_doe.png)\n",
    "\n",
    "The contents of the above script is: \n",
    "\n",
    "```bash\n",
    "# this script is used to create the certificates \n",
    "# for the DOE - Department of Education \n",
    "\n",
    "# generate a pair of keys...\n",
    "python3 generate_rsa_key_pairs.py doe_private.key doe_public.key\n",
    "\n",
    "# sign doe's public key using one of the root certs.\n",
    "python3 fake_certs_issuer.py root2_private.key doe doe_public.key doe.cert\n",
    "```"
   ]
  },
  {
   "cell_type": "markdown",
   "metadata": {},
   "source": [
    "### Department of Defense\n",
    "\n",
    "![cert for dod](5_11_assets/create_cert_for_dod.png)"
   ]
  },
  {
   "cell_type": "markdown",
   "metadata": {},
   "source": [
    "### Espionage Agency\n",
    "\n",
    "![cert for ea](5_11_assets/create_cert_for_ea.png)"
   ]
  },
  {
   "cell_type": "markdown",
   "metadata": {},
   "source": [
    "## Creating certs for the employees of the departments"
   ]
  },
  {
   "cell_type": "markdown",
   "metadata": {},
   "source": [
    "![Creating cert for employees of ea](./5_11_assets/create_cert_for_employees.png)\n",
    "\n",
    "source code of the above script: \n",
    "\n",
    "```bash\n",
    "# Create certs for employees of EA \n",
    "\n",
    "# generate a pair of keys...\n",
    "python3 generate_rsa_key_pairs.py alice_private.key alice_public.key\n",
    "python3 generate_rsa_key_pairs.py bob_private.key bob_public.key\n",
    "python3 generate_rsa_key_pairs.py charlie_private.key charlie_public.key\n",
    "\n",
    "# sign the public keys of the employees using the private key of ea.\n",
    "python3 fake_certs_issuer.py ea_private.key alice alice_public.key alice.cert\n",
    "python3 fake_certs_issuer.py ea_private.key bob bob_public.key bob.cert\n",
    "python3 fake_certs_issuer.py ea_private.key charlie charlie_public.key charlie.cert\n",
    "```"
   ]
  }
 ],
 "metadata": {
  "kernelspec": {
   "display_name": "env",
   "language": "python",
   "name": "python3"
  },
  "language_info": {
   "name": "python",
   "version": "3.10.12"
  }
 },
 "nbformat": 4,
 "nbformat_minor": 2
}
