{
 "cells": [
  {
   "cell_type": "markdown",
   "metadata": {},
   "source": [
    "---\n",
    "order: 11\n",
    "title: \"5.11 THE CHAINS WE FORGED IN LIFE\"\n",
    "---"
   ]
  },
  {
   "cell_type": "markdown",
   "metadata": {},
   "source": [
    "> EXERCISE 5.11: THE CHAINS WE FORGED IN LIFE\n",
    "> \n",
    "> Modify the identity validation programs to support a chain of trust. \n",
    "> First, create some self signed certificates for the EA goverment (at \n",
    "> least two as described previously). The existing issuer script can already \n",
    "> do this. Just make the issuer private key for the self-signed certificate to \n",
    "> be the organization's own private key. Thus, the organization is signing \n",
    "> its own cert, and the private key used to sign the certificate matches the \n",
    "> public key _in_ the certificate. \n",
    "> \n",
    "> Next, create certificates for intermediate CAs such as \"Department of Education\", \n",
    "> \"Department of Defense\", \"Espionage Agency\" and so forth. These certificates should \n",
    "> be signed by the self signed certificates in the previous step. \n",
    "> \n",
    "> Finally, sign certificates for Alice, Bob, and Charlie by the espionage CA. Perhaps \n",
    "> create some certificates for employees of the defense department and the \n",
    "> education department. These certificates should be signed by the appropriate \n",
    "> intermediate CA. \n",
    "> \n",
    "> Now, modify the verification program to take a chain of certificates instead \n",
    "> of just a single certificate. Get rid of the command-line parameter for the \n",
    "> issuer's public key and instead hard-code which of the root certificate filenames \n",
    "> are trusted. To specify the chain of certificates, have the program take the \n",
    "> claimed identity as the first input (as it already does) and then an \n",
    "> arbitrary number of certificates to follow. Each certificate's issuer field \n",
    "> should indicate the next certificate in the chain. For example, to validate \n",
    "> Charlie, there may be three certificates: `charlie.cert`, `espionage.cert`, \n",
    "> `covert_root.cert`. The issuer of `charlie.cert` should have the same subject \n",
    "> name as `espionage.cert` and so forth. The verify program should only accept \n",
    "> an identity if the last certificate in the chain is already trusted. \n",
    "\n",
    "--------------------------------"
   ]
  },
  {
   "cell_type": "markdown",
   "metadata": {},
   "source": [
    "## Creating two self-signed certificates\n",
    "\n",
    "Let's call the keys: \n",
    "\n",
    "* `root1_private.key`, `root1_public.key`\n",
    "* `root2_private.key`, `root2_public.key`\n",
    "\n",
    "![generating keys](5_11_assets/generate_rsa_key_pairs.png)"
   ]
  },
  {
   "cell_type": "markdown",
   "metadata": {},
   "source": [
    "Let's call the certificates: \n",
    "\n",
    "* root1.cert\n",
    "* root2.cert\n",
    "\n",
    "![creating the self signed root certificates](5_11_assets/creating-self-signed-certs.png)\n",
    "\n",
    "The contents of the bash script above is given below: \n",
    "\n",
    "```bash\n",
    "python3 fake_certs_issuer.py root1_private.key fake_cert_authority1 root1_public.key root1.cert\n",
    "python3 fake_certs_issuer.py root2_private.key fake_cert_authority1 root2_public.key root2.cert\n",
    "```\n",
    "\n",
    "The usage of `fake_certs_issuer.py` script is: \n",
    "\n",
    "```\n",
    "Usage: python3 fake_certs_issuer.py <issuer-private-key-file> <certificate-subject> <subject's-public-key-file> <certificate-output-file>\n",
    "```"
   ]
  }
 ],
 "metadata": {
  "kernelspec": {
   "display_name": "env",
   "language": "python",
   "name": "python3"
  },
  "language_info": {
   "name": "python",
   "version": "3.10.12"
  }
 },
 "nbformat": 4,
 "nbformat_minor": 2
}
