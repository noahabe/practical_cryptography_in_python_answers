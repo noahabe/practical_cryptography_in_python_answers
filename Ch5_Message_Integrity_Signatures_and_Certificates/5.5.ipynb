{
 "cells": [
  {
   "cell_type": "markdown",
   "metadata": {},
   "source": [
    "---\n",
    "order: 5\n",
    "title: \"5.5 TEST PYTHON'S HMAC\"\n",
    "---"
   ]
  },
  {
   "cell_type": "markdown",
   "metadata": {},
   "source": [
    "> EXERCISE 5.5 TEST PYTHON'S HMAC \n",
    "> \n",
    "> Although you should not roll your own crypto, it doesn't\n",
    "> mean you shouldn't verify implementations! Create your own \n",
    "> implementation of HMAC following the instructions from RFC\n",
    "> 2104 and test some inputs and keys with both your implementation\n",
    "> and Python's `cryptography` library's implementation. \n",
    "> Ensure that they produce the same outputs! \n",
    "\n",
    "--------------------------------"
   ]
  },
  {
   "cell_type": "markdown",
   "metadata": {},
   "source": [
    "## Python's HMAC"
   ]
  },
  {
   "cell_type": "code",
   "execution_count": 36,
   "metadata": {},
   "outputs": [],
   "source": [
    "from cryptography.hazmat.backends import default_backend\n",
    "from cryptography.hazmat.primitives import hashes, hmac \n",
    "\n",
    "def pythons_sha256_hmac(text: bytes, k: bytes) -> bytes: \n",
    "    h = hmac.HMAC(k, hashes.SHA256(), backend=default_backend())\n",
    "    h.update(text) \n",
    "    return h.finalize()"
   ]
  },
  {
   "cell_type": "code",
   "execution_count": 37,
   "metadata": {},
   "outputs": [
    {
     "data": {
      "text/plain": [
       "'ae 7d 07 10 49 9d 66 48 ce 14 71 95 f7 96 06 a7 02 74 a2 93 34 67 0b 4a f5 18 f7 99 10 d6 f4 b0'"
      ]
     },
     "execution_count": 37,
     "metadata": {},
     "output_type": "execute_result"
    }
   ],
   "source": [
    "pythons_sha256_hmac(text=b'hello world', k=b'accccc').hex(sep=' ')"
   ]
  },
  {
   "cell_type": "markdown",
   "metadata": {},
   "source": [
    "## Custom HMAC"
   ]
  },
  {
   "cell_type": "code",
   "execution_count": 38,
   "metadata": {},
   "outputs": [],
   "source": [
    "from hashlib import sha256\n",
    "\n",
    "BLOCK_SIZE_OF_SHA256 = 128  # bytes\n",
    "\n",
    "\n",
    "def h(x: bytes) -> bytes: return sha256(x).digest()\n",
    "\n",
    "\n",
    "def make_key_B_bytes_long(key: bytes):\n",
    "    if len(key) == BLOCK_SIZE_OF_SHA256:\n",
    "        return key\n",
    "    elif len(key) < BLOCK_SIZE_OF_SHA256:\n",
    "        return key + bytes(BLOCK_SIZE_OF_SHA256 - len(key))\n",
    "    else:\n",
    "        return make_key_B_bytes_long(h(key))\n",
    "\n",
    "\n",
    "# the following function is taken from Exercise 3.9.\n",
    "def xor_two_byte_strings(x: bytes, y: bytes) -> bytes:\n",
    "    assert (len(x) == len(y))\n",
    "\n",
    "    result = []\n",
    "    for _1, _2 in zip(x, y):\n",
    "        result.append(_1 ^ _2)\n",
    "    return bytes(result)\n",
    "\n",
    "\n",
    "def custom_hmac(key: bytes, text: bytes) -> bytes:\n",
    "    key = make_key_B_bytes_long(key=key)\n",
    "    ipad = bytes.fromhex('36') * BLOCK_SIZE_OF_SHA256\n",
    "    opad = bytes.fromhex('5c') * BLOCK_SIZE_OF_SHA256\n",
    "    kipad = xor_two_byte_strings(key, ipad)\n",
    "    kopad = xor_two_byte_strings(key, opad)\n",
    "\n",
    "    return h(kopad + h(kipad + text))"
   ]
  },
  {
   "cell_type": "code",
   "execution_count": 39,
   "metadata": {},
   "outputs": [
    {
     "data": {
      "text/plain": [
       "'65 3a ec 3d 50 01 78 22 1b 60 c1 b8 39 7b 57 a9 7d 9b b8 89 0e 69 c5 f5 86 1c 82 fe d3 8d 02 a6'"
      ]
     },
     "execution_count": 39,
     "metadata": {},
     "output_type": "execute_result"
    }
   ],
   "source": [
    "custom_hmac(text=b'hello world', key=b'accccc').hex(sep=' ')"
   ]
  }
 ],
 "metadata": {
  "kernelspec": {
   "display_name": "env",
   "language": "python",
   "name": "python3"
  },
  "language_info": {
   "codemirror_mode": {
    "name": "ipython",
    "version": 3
   },
   "file_extension": ".py",
   "mimetype": "text/x-python",
   "name": "python",
   "nbconvert_exporter": "python",
   "pygments_lexer": "ipython3",
   "version": "3.10.12"
  }
 },
 "nbformat": 4,
 "nbformat_minor": 2
}
