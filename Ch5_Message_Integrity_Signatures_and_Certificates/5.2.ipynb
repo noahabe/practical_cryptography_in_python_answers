{
 "cells": [
  {
   "cell_type": "markdown",
   "metadata": {},
   "source": [
    "---\n",
    "order: 2\n",
    "title: \"5.2 EVER EVIL EVE\"\n",
    "---"
   ]
  },
  {
   "cell_type": "markdown",
   "metadata": {},
   "source": [
    "> EXERCISE 5.2: EVER EVIL EVE \n",
    "> \n",
    "> Go ahead and \"intercept\" some of the messages encrypted by the \n",
    "> code you wrote in this section. Modify the intercepted messages \n",
    "> and verify that your decryption mechanism correctly reports an error.\n",
    "\n",
    "--------------------------------"
   ]
  },
  {
   "cell_type": "markdown",
   "metadata": {},
   "source": [
    "## Alice's Session\n",
    "\n",
    "Alice first creates her `plaintext`. Then she uses her newly generated \n",
    "`key` and `nonce` to encrypt her `plaintext`."
   ]
  },
  {
   "cell_type": "code",
   "execution_count": 2,
   "metadata": {},
   "outputs": [
    {
     "name": "stdout",
     "output_type": "stream",
     "text": [
      "Key: 0c 72 69 82 a3 54 69 16 a8 46 b1 6d 02 17 05 80 7d 1d af 4d c5 9e 6d a1 05 ff b0 fd b8 13 3e 76\n",
      "Nonce: 60 8e 6d 84 0f 11 16 76 fc a3 ed ab 12 8a 4f c0\n",
      "Plaintext: 48 69 20 42 6f 62 2c 20 74 68 69 73 20 69 73 20 41 6c 69 63 65 21\n",
      "Ciphertext With MAC: b4 9e ac 3b c5 71 c0 e4 35 45 8b f6 21 0d b9 9c fc 48 0c 68 49 b4 8c c4 bd 0b 35 f1 fc d1 41 b6 4c 42 a9 e0 1f 83 e3 f6 86 b3 0b 5c cb 29 2e 06 31 24 91 a7 02 74\n"
     ]
    }
   ],
   "source": [
    "import ex5_1\n",
    "import os \n",
    "\n",
    "plaintext = b\"Hi Bob, this is Alice!\"\n",
    "key = os.urandom(32)\n",
    "nonce = os.urandom(16) \n",
    "\n",
    "encryptionManager = ex5_1.Encryptor(key=key, nonce=nonce)\n",
    "ciphertextWithMac = encryptionManager.update_encryptor(plaintext=plaintext)\n",
    "ciphertextWithMac += encryptionManager.finalize_encryptor()\n",
    "\n",
    "print(f\"Key: {key.hex(sep=' ')}\")\n",
    "print(f\"Nonce: {nonce.hex(sep=' ')}\")\n",
    "print(f\"Plaintext: {plaintext.hex(sep=' ')}\")\n",
    "print(f\"Ciphertext With MAC: {ciphertextWithMac.hex(sep=' ')}\")"
   ]
  },
  {
   "cell_type": "markdown",
   "metadata": {},
   "source": [
    "## Eve then intercepts...\n",
    "\n",
    "Suppose Eve intercepts the `ciphertextWithMac` and she changes its first byte:"
   ]
  },
  {
   "cell_type": "code",
   "execution_count": 6,
   "metadata": {},
   "outputs": [
    {
     "name": "stdout",
     "output_type": "stream",
     "text": [
      "Ciphertext With MAC: aa 9e ac 3b c5 71 c0 e4 35 45 8b f6 21 0d b9 9c fc 48 0c 68 49 b4 8c c4 bd 0b 35 f1 fc d1 41 b6 4c 42 a9 e0 1f 83 e3 f6 86 b3 0b 5c cb 29 2e 06 31 24 91 a7 02 74\n"
     ]
    }
   ],
   "source": [
    "ciphertextWithMac = bytes.fromhex('aa') + ciphertextWithMac[1:]\n",
    "print(f\"Ciphertext With MAC: {ciphertextWithMac.hex(sep=' ')}\")"
   ]
  },
  {
   "cell_type": "markdown",
   "metadata": {},
   "source": [
    "## Bob, then tries to verify and decrypt the ciphertext...\n",
    "\n",
    "We expect an `Exception` to be raised:"
   ]
  },
  {
   "cell_type": "code",
   "execution_count": 7,
   "metadata": {},
   "outputs": [
    {
     "ename": "MessageWasTamperedWithError",
     "evalue": "\nExpected: b'\\xeb\\x19\\xb7p`p\\xe7\\xba\\xe5\\xe3z\\x81}[i\\xec\\xa2*\\xfa\\xe9]\\xca\\xeb\\xcb\\x13\\x0f4\\xba\\x1b,\\x8a\\xf1'.\nBut got: b'\\x8c\\xc4\\xbd\\x0b5\\xf1\\xfc\\xd1A\\xb6LB\\xa9\\xe0\\x1f\\x83\\xe3\\xf6\\x86\\xb3\\x0b\\\\\\xcb).\\x061$\\x91\\xa7\\x02t'",
     "output_type": "error",
     "traceback": [
      "\u001b[0;31m---------------------------------------------------------------------------\u001b[0m",
      "\u001b[0;31mMessageWasTamperedWithError\u001b[0m               Traceback (most recent call last)",
      "Cell \u001b[0;32mIn[7], line 7\u001b[0m\n\u001b[1;32m      1\u001b[0m decryptionManager \u001b[38;5;241m=\u001b[39m ex5_1\u001b[38;5;241m.\u001b[39mDecryptor(\n\u001b[1;32m      2\u001b[0m     key\u001b[38;5;241m=\u001b[39mkey,\n\u001b[1;32m      3\u001b[0m     nonce\u001b[38;5;241m=\u001b[39mnonce,\n\u001b[1;32m      4\u001b[0m     digest\u001b[38;5;241m=\u001b[39mex5_1\u001b[38;5;241m.\u001b[39mDecryptor\u001b[38;5;241m.\u001b[39mget_mac(ciphertextWithMac)\n\u001b[1;32m      5\u001b[0m )\n\u001b[1;32m      6\u001b[0m _plaintext \u001b[38;5;241m=\u001b[39m decryptionManager\u001b[38;5;241m.\u001b[39mupdate_decryptor(ciphertext\u001b[38;5;241m=\u001b[39mciphertextWithMac[:\u001b[38;5;241m-\u001b[39m\u001b[38;5;241m32\u001b[39m])\n\u001b[0;32m----> 7\u001b[0m _plaintext \u001b[38;5;241m+\u001b[39m\u001b[38;5;241m=\u001b[39m \u001b[43mdecryptionManager\u001b[49m\u001b[38;5;241;43m.\u001b[39;49m\u001b[43mfinalize_decryptor\u001b[49m\u001b[43m(\u001b[49m\u001b[43m)\u001b[49m\n",
      "File \u001b[0;32m~/code/repos/practical_cryptography_in_python_answers/Ch5_Message_Integrity_Signatures_and_Certificates/ex5_1.py:61\u001b[0m, in \u001b[0;36mDecryptor.finalize_decryptor\u001b[0;34m(self)\u001b[0m\n\u001b[1;32m     59\u001b[0m \u001b[38;5;28;01mdef\u001b[39;00m \u001b[38;5;21mfinalize_decryptor\u001b[39m(\u001b[38;5;28mself\u001b[39m):\n\u001b[1;32m     60\u001b[0m     \u001b[38;5;28;01mif\u001b[39;00m \u001b[38;5;28mself\u001b[39m\u001b[38;5;241m.\u001b[39mhasher\u001b[38;5;241m.\u001b[39mdigest() \u001b[38;5;241m!=\u001b[39m \u001b[38;5;28mself\u001b[39m\u001b[38;5;241m.\u001b[39mdigest:\n\u001b[0;32m---> 61\u001b[0m         \u001b[38;5;28;01mraise\u001b[39;00m MessageWasTamperedWithError(\n\u001b[1;32m     62\u001b[0m             expected_mac\u001b[38;5;241m=\u001b[39m\u001b[38;5;28mself\u001b[39m\u001b[38;5;241m.\u001b[39mhasher\u001b[38;5;241m.\u001b[39mdigest(),\n\u001b[1;32m     63\u001b[0m             actual_mac\u001b[38;5;241m=\u001b[39m\u001b[38;5;28mself\u001b[39m\u001b[38;5;241m.\u001b[39mdigest\n\u001b[1;32m     64\u001b[0m         )\n\u001b[1;32m     65\u001b[0m     \u001b[38;5;28;01mreturn\u001b[39;00m \u001b[38;5;28mself\u001b[39m\u001b[38;5;241m.\u001b[39mdecryptor\u001b[38;5;241m.\u001b[39mfinalize()\n",
      "\u001b[0;31mMessageWasTamperedWithError\u001b[0m: \nExpected: b'\\xeb\\x19\\xb7p`p\\xe7\\xba\\xe5\\xe3z\\x81}[i\\xec\\xa2*\\xfa\\xe9]\\xca\\xeb\\xcb\\x13\\x0f4\\xba\\x1b,\\x8a\\xf1'.\nBut got: b'\\x8c\\xc4\\xbd\\x0b5\\xf1\\xfc\\xd1A\\xb6LB\\xa9\\xe0\\x1f\\x83\\xe3\\xf6\\x86\\xb3\\x0b\\\\\\xcb).\\x061$\\x91\\xa7\\x02t'"
     ]
    }
   ],
   "source": [
    "decryptionManager = ex5_1.Decryptor(\n",
    "    key=key,\n",
    "    nonce=nonce,\n",
    "    digest=ex5_1.Decryptor.get_mac(ciphertextWithMac)\n",
    ")\n",
    "_plaintext = decryptionManager.update_decryptor(ciphertext=ciphertextWithMac[:-32])\n",
    "_plaintext += decryptionManager.finalize_decryptor()"
   ]
  }
 ],
 "metadata": {
  "kernelspec": {
   "display_name": "env",
   "language": "python",
   "name": "python3"
  },
  "language_info": {
   "codemirror_mode": {
    "name": "ipython",
    "version": 3
   },
   "file_extension": ".py",
   "mimetype": "text/x-python",
   "name": "python",
   "nbconvert_exporter": "python",
   "pygments_lexer": "ipython3",
   "version": "3.10.12"
  }
 },
 "nbformat": 4,
 "nbformat_minor": 2
}
