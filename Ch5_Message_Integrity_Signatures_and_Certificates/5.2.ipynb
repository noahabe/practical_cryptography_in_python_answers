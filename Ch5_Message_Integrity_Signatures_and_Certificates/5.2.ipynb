{
 "cells": [
  {
   "cell_type": "markdown",
   "metadata": {},
   "source": [
    "> # EXERCISE 5.2: EVER EVIL EVE \n",
    "> \n",
    "> Go ahead and \"intercept\" some of the messages encrypted by the \n",
    "> code you wrote in this section. Modify the intercepted messages \n",
    "> and verify that your decryption mechanism correctly reports an error."
   ]
  },
  {
   "cell_type": "markdown",
   "metadata": {},
   "source": [
    "## Alice's Session\n",
    "\n",
    "Alice first creates her `plaintext`. Then she uses her newly generated \n",
    "`key` and `nonce` to encrypt her `plaintext`."
   ]
  },
  {
   "cell_type": "code",
   "execution_count": 1,
   "metadata": {},
   "outputs": [],
   "source": [
    "import ex5_1\n",
    "import os \n",
    "\n",
    "plaintext = b\"Hi Bob, this is Alice!\"\n",
    "key = os.urandom(32)\n",
    "nonce = os.urandom(16) \n",
    "\n",
    "encryptionManager = ex5_1.Encryptor(key=key, nonce=nonce)\n",
    "ciphertext = encryptionManager.update_encryptor(plaintext=plaintext)\n",
    "ciphertext += encryptionManager.finalize_encryptor()"
   ]
  }
 ],
 "metadata": {
  "kernelspec": {
   "display_name": "env",
   "language": "python",
   "name": "python3"
  },
  "language_info": {
   "codemirror_mode": {
    "name": "ipython",
    "version": 3
   },
   "file_extension": ".py",
   "mimetype": "text/x-python",
   "name": "python",
   "nbconvert_exporter": "python",
   "pygments_lexer": "ipython3",
   "version": "3.10.12"
  }
 },
 "nbformat": 4,
 "nbformat_minor": 2
}
