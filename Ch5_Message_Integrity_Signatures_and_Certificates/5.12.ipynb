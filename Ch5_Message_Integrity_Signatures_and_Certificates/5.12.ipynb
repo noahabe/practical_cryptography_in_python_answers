{
 "cells": [
  {
   "cell_type": "markdown",
   "metadata": {},
   "source": [
    "---\n",
    "order: 12\n",
    "title: \"5.12 REPLAY IT AGAIN SAM!\"\n",
    "---"
   ]
  },
  {
   "cell_type": "markdown",
   "metadata": {},
   "source": [
    "> EXERCISE 5.12: REPLAY IT AGAIN SAM!\n",
    "> \n",
    "> Use either MAC or signatures to send a message from Alice to Bob \n",
    "> or vice versa. Include a nonce in the message to prevent replays \n",
    "> using all three mechanisms described in this section. Send some replays\n",
    "> from Eve and try to get around Alice and Bob's defenses. \n",
    "\n",
    "--------------------------------"
   ]
  },
  {
   "cell_type": "markdown",
   "metadata": {},
   "source": [
    "It is impossible for Eve to get around this defense, **if the \n",
    "defense is using all three mechanisms.** \n",
    "\n",
    "The three mechanisms are: \n",
    "\n",
    "1. Adding timestamp to every message\n",
    "2. Adding nonce/ID-ing every message\n",
    "3. Adding a sender and receiver to every message.\n",
    "\n"
   ]
  },
  {
   "cell_type": "markdown",
   "metadata": {},
   "source": []
  },
  {
   "cell_type": "markdown",
   "metadata": {},
   "source": [
    "## For those that want to go an extra mile..."
   ]
  },
  {
   "cell_type": "markdown",
   "metadata": {},
   "source": [
    "Alice and Bob, can use a [redis db](https://redis.io/), to store \n",
    "the id of every message with in some window, say 24 hours. They can use \n",
    "`SET <id of message> <some value> EX 86400`. Then, any time a message \n",
    "comes in, they check if the id of the message is already in their DB. \n",
    "If it is, it is a replay attack. They can use the TTL command to check \n",
    "the existence of the key: \n",
    "\n",
    "![using ttl in redis](ex5.12.png)"
   ]
  },
  {
   "cell_type": "markdown",
   "metadata": {},
   "source": [
    "But even before they check in the database, Alice and Bob\n",
    "need to check first if the timestamp of the message is earlier \n",
    "than 24 hours. If it is, Eve might be performing a replay \n",
    "attack, and they must ignore the message with out further processing."
   ]
  },
  {
   "cell_type": "markdown",
   "metadata": {},
   "source": [
    "## Where is this useful in the real world?\n",
    "\n",
    "One example I can come up with, that actually happened to me: integrating \n",
    "with Google AdMob's Server Side Verification when a user completes watching\n",
    "a video of a rewarded ad."
   ]
  },
  {
   "cell_type": "markdown",
   "metadata": {},
   "source": [
    "## Reference\n",
    "\n",
    "1. [SET command of redis](https://redis.io/docs/latest/commands/set/)\n",
    "2. [TTL command of redis](https://redis.io/docs/latest/commands/ttl/)"
   ]
  }
 ],
 "metadata": {
  "kernelspec": {
   "display_name": "env",
   "language": "python",
   "name": "python3"
  },
  "language_info": {
   "name": "python",
   "version": "3.10.12"
  }
 },
 "nbformat": 4,
 "nbformat_minor": 2
}
