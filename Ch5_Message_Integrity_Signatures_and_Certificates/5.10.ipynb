{
 "cells": [
  {
   "cell_type": "markdown",
   "metadata": {},
   "source": [
    "---\n",
    "order: 10\n",
    "title: \"5.10 DETECT FAKE CHARLIES\"\n",
    "---"
   ]
  },
  {
   "cell_type": "markdown",
   "metadata": {},
   "source": [
    "> EXERCISE 5.10 DETECT FAKE CHARLIES \n",
    "> \n",
    "> Experiment with the preceding scripts to check out the various \n",
    "> errors from trying to deceive Alice. Create a false issuer and \n",
    "> sign the certificate with this private key. Have someone with the \n",
    "> wrong private key present Charlie's certificate. Make sure to understand\n",
    "> all the different checks being performed in the code. \n",
    "\n",
    "--------------------------------"
   ]
  },
  {
   "cell_type": "markdown",
   "metadata": {},
   "source": [
    "You will get an `InvalidSignature` exception raised, when you \n",
    "try to verify a fake signature on a certificate."
   ]
  }
 ],
 "metadata": {
  "kernelspec": {
   "display_name": "env",
   "language": "python",
   "name": "python3"
  },
  "language_info": {
   "name": "python",
   "version": "3.10.12"
  }
 },
 "nbformat": 4,
 "nbformat_minor": 2
}
