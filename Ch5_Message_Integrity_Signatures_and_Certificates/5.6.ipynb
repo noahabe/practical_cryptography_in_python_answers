{
 "cells": [
  {
   "cell_type": "markdown",
   "metadata": {},
   "source": [
    "---\n",
    "order: 6\n",
    "title: \"5.6 ENCRYPT THEN MAC\"\n",
    "---"
   ]
  },
  {
   "cell_type": "markdown",
   "metadata": {},
   "source": [
    "> EXERCISE 5.6 ENCRYPT THEN MAC\n",
    "> \n",
    "> Update the code from the beginning of the chapter to do \n",
    "> a proper MAC by replacing the SHA-256 operation with \n",
    "> HMAC or CMAC. Use _two_ keys.\n",
    "\n",
    "--------------------------------"
   ]
  },
  {
   "cell_type": "markdown",
   "metadata": {},
   "source": [
    "## Defining the core classes"
   ]
  },
  {
   "cell_type": "code",
   "execution_count": 2,
   "metadata": {},
   "outputs": [],
   "source": [
    "from cryptography.hazmat.primitives.ciphers import Cipher, algorithms, modes\n",
    "from cryptography.hazmat.backends import default_backend\n",
    "from cryptography.hazmat.primitives import cmac, hashes, hmac\n",
    "from enum import Enum\n",
    "\n",
    "class MessageWasTamperedWithError(Exception):\n",
    "    '''\n",
    "    Raised when the ciphertext has been tampered with \n",
    "    by Eve.\n",
    "    '''\n",
    "\n",
    "    def __init__(self, expected_mac: str, actual_mac: str):\n",
    "        self.expected_mac = expected_mac\n",
    "        self.actual_mac = actual_mac\n",
    "\n",
    "    def __str__(self):\n",
    "        return f\"\\nExpected: {self.expected_mac}.\\nBut got: {self.actual_mac}\"\n",
    "\n",
    "class UnknownMacException(Exception): \n",
    "    pass \n",
    "\n",
    "class Mac(Enum):\n",
    "    '''\n",
    "    * If you are using HMAC_WITH_SHA256, the MAC's length  \n",
    "    would be 32 bytes.\n",
    "\n",
    "    * If you are using CMAC, the MAC's length would\n",
    "    be 16 bytes.\n",
    "    '''\n",
    "    HMAC_WITH_SHA256 = 1\n",
    "    CMAC = 2\n",
    "\n",
    "def get_hasher(mac_type: Mac, mac_key: bytes) -> hmac.HMAC | cmac.CMAC: \n",
    "    if mac_type == Mac.HMAC_WITH_SHA256:\n",
    "        hasher = hmac.HMAC(\n",
    "                mac_key, hashes.SHA256(), backend=default_backend())\n",
    "    elif mac_type == Mac.CMAC:\n",
    "        hasher = cmac.CMAC(algorithms.AES(\n",
    "                mac_key), backend=default_backend())\n",
    "    else: \n",
    "        raise UnknownMacException()\n",
    "    return hasher\n",
    "\n",
    "class Encryptor:\n",
    "    def __init__(\n",
    "        self, \n",
    "        encryption_key: bytes, \n",
    "        nonce: bytes, \n",
    "        mac_type: Mac, \n",
    "        mac_key: bytes,\n",
    "    ):\n",
    "        aesContext = Cipher(\n",
    "            algorithms.AES(encryption_key),\n",
    "            modes.CTR(nonce),\n",
    "            backend=default_backend()\n",
    "        )\n",
    "        self.encryptor = aesContext.encryptor()\n",
    "        self.hasher = get_hasher(mac_type, mac_key)\n",
    "\n",
    "    def update_encryptor(self, plaintext):\n",
    "        ciphertext = self.encryptor.update(plaintext)\n",
    "        self.hasher.update(ciphertext)\n",
    "        return ciphertext\n",
    "\n",
    "    def finalize_encryptor(self):\n",
    "        return self.encryptor.finalize() + self.hasher.finalize()\n",
    "\n",
    "\n",
    "class Decryptor:\n",
    "    def __init__(\n",
    "        self, \n",
    "        encryption_key: bytes, \n",
    "        nonce: bytes, \n",
    "        mac_type: Mac, \n",
    "        mac_key: bytes, \n",
    "        digest: bytes,\n",
    "    ):\n",
    "        '''\n",
    "        Note that in Symmetric ciphers such as AES, the encryption and decryption\n",
    "        keys are the same.\n",
    "        '''\n",
    "        aesContext = Cipher(\n",
    "            algorithms.AES(encryption_key),\n",
    "            modes.CTR(nonce),\n",
    "            backend=default_backend()\n",
    "        )\n",
    "        self.decryptor = aesContext.decryptor()\n",
    "        self.digest = digest\n",
    "        self.hasher = get_hasher(mac_type, mac_key)\n",
    "\n",
    "    def update_decryptor(self, ciphertext: bytes):\n",
    "        '''Make sure that ciphertext doesn't include the MAC'''\n",
    "        plaintext = self.decryptor.update(ciphertext)\n",
    "        self.hasher.update(ciphertext)\n",
    "        return plaintext\n",
    "\n",
    "    def finalize_decryptor(self):\n",
    "        expected_mac = self.hasher.finalize()\n",
    "\n",
    "        if expected_mac != self.digest:\n",
    "            raise MessageWasTamperedWithError(\n",
    "                expected_mac=expected_mac,\n",
    "                actual_mac=self.digest\n",
    "            )\n",
    "        return self.decryptor.finalize()\n",
    "\n",
    "    @staticmethod\n",
    "    def get_mac(ciphertext_with_mac: bytes, mac_type: Mac):\n",
    "        if mac_type == Mac.HMAC_WITH_SHA256:\n",
    "            return ciphertext_with_mac[-32:]\n",
    "        elif mac_type == Mac.CMAC: \n",
    "            return ciphertext_with_mac[-16:]\n",
    "        else: \n",
    "            raise UnknownMacException()"
   ]
  },
  {
   "cell_type": "markdown",
   "metadata": {},
   "source": [
    "Now that we have defined the classes we need, let's get to the fun part: "
   ]
  },
  {
   "cell_type": "markdown",
   "metadata": {},
   "source": [
    "## Using HMAC..."
   ]
  },
  {
   "cell_type": "code",
   "execution_count": 4,
   "metadata": {},
   "outputs": [
    {
     "name": "stdout",
     "output_type": "stream",
     "text": [
      "encryption_key: 5d 9f 90 12 54 13 aa 8f b6 c7 52 6b 73 b7 a4 99 74 d2 1b c3 a1 b4 59 ac 6f 2f 83 65 8e f7 3d 40\n",
      "nonce: 95 75 72 b3 dd 07 ab 67 76 e1 2f c6 18 63 fd c7\n",
      "mac_key: c5 06 7e 07 e9 bb 2d 64 1f 5b 6f 63 af ea f4 e1 bd 52 ec 35 d5 60 30 3f 25 4a 4d f1 0a e5 ab 1a f6 0d 77 4d a4 be 2c f2 48 1f 18 12 64 a6 2e 8c a9 35 8a df 19 f4 07 50 73 50 9f b3 64 29 53 ab\n",
      "message: 48 65 6c 6c 6f 20 42 6f 62 2c 20 68 6f 77 20 61 72 65 20 79 6f 75 3f\n"
     ]
    }
   ],
   "source": [
    "from secrets import token_bytes\n",
    "\n",
    "encryption_key = token_bytes(32)\n",
    "nonce = token_bytes(16) \n",
    "# we used 64 here because block size of sha256 is 64. see EX5.5.\n",
    "mac_key = token_bytes(64) \n",
    "message = b\"Hello Bob, how are you?\"\n",
    "\n",
    "print(f\"encryption_key: {encryption_key.hex(' ')}\")\n",
    "print(f\"nonce: {nonce.hex(' ')}\")\n",
    "print(f\"mac_key: {mac_key.hex(' ')}\")\n",
    "print(f\"message: {message.hex(' ')}\")"
   ]
  },
  {
   "cell_type": "code",
   "execution_count": 7,
   "metadata": {},
   "outputs": [
    {
     "name": "stdout",
     "output_type": "stream",
     "text": [
      "30 f5 77 d0 34 66 08 b0 52 3b 87 00 d3 75 4d 10 a5 97 49 e1 ff d5 cc 2e d0 73 3b 67 9f c7 53 ae 89 c9 81 4c 61 5e 4f 05 66 3e 7e 13 9d 00 81 7a e0 91 51 67 32 75 82\n"
     ]
    }
   ],
   "source": [
    "encryptor = Encryptor(\n",
    "    encryption_key=encryption_key,\n",
    "    nonce=nonce,\n",
    "    mac_type=Mac.HMAC_WITH_SHA256,\n",
    "    mac_key=mac_key,\n",
    ")\n",
    "ciphertext_with_mac = encryptor.update_encryptor(message)\n",
    "ciphertext_with_mac += encryptor.finalize_encryptor()\n",
    "\n",
    "print(ciphertext_with_mac.hex(' '))"
   ]
  },
  {
   "cell_type": "markdown",
   "metadata": {},
   "source": [
    "Now let's decrypt and verify:"
   ]
  },
  {
   "cell_type": "code",
   "execution_count": 8,
   "metadata": {},
   "outputs": [],
   "source": [
    "decryptor = Decryptor(\n",
    "    encryption_key=encryption_key,\n",
    "    nonce=nonce,\n",
    "    mac_type=Mac.HMAC_WITH_SHA256,\n",
    "    mac_key=mac_key,\n",
    "    digest=Decryptor.get_mac(ciphertext_with_mac, Mac.HMAC_WITH_SHA256)\n",
    ")"
   ]
  },
  {
   "cell_type": "code",
   "execution_count": 9,
   "metadata": {},
   "outputs": [],
   "source": [
    "plaintext = decryptor.update_decryptor(ciphertext_with_mac[:-32])\n",
    "plaintext += decryptor.finalize_decryptor()"
   ]
  },
  {
   "cell_type": "markdown",
   "metadata": {},
   "source": [
    "Phew, that didn't throw an exception..."
   ]
  },
  {
   "cell_type": "code",
   "execution_count": 10,
   "metadata": {},
   "outputs": [
    {
     "name": "stdout",
     "output_type": "stream",
     "text": [
      "b'Hello Bob, how are you?'\n"
     ]
    }
   ],
   "source": [
    "print(plaintext)"
   ]
  },
  {
   "cell_type": "markdown",
   "metadata": {},
   "source": [
    "## Using CMAC..."
   ]
  },
  {
   "cell_type": "markdown",
   "metadata": {},
   "source": [
    "There is no need to redefine `encryption_key`, `nonce` & `message` again here."
   ]
  },
  {
   "cell_type": "code",
   "execution_count": 12,
   "metadata": {},
   "outputs": [
    {
     "name": "stdout",
     "output_type": "stream",
     "text": [
      "mac_key: 87 1b f3 2a a2 84 d5 50 a1 c7 04 7e 81 3f 43 e6 ed 9a ca 07 78 04 49 e3 1d 2d a0 29 56 77 e5 bf\n"
     ]
    }
   ],
   "source": [
    "mac_key = token_bytes(32)\n",
    "\n",
    "print(f\"mac_key: {mac_key.hex(' ')}\")"
   ]
  },
  {
   "cell_type": "code",
   "execution_count": 13,
   "metadata": {},
   "outputs": [
    {
     "name": "stdout",
     "output_type": "stream",
     "text": [
      "30 f5 77 d0 34 66 08 b0 52 3b 87 00 d3 75 4d 10 a5 97 49 e1 ff d5 cc 3c cd da 7c 33 91 02 3c ac d5 cb fa cc 95 74 b6\n"
     ]
    }
   ],
   "source": [
    "encryptor = Encryptor(\n",
    "    encryption_key=encryption_key,\n",
    "    nonce=nonce,\n",
    "    mac_type=Mac.CMAC,\n",
    "    mac_key=mac_key,\n",
    ")\n",
    "ciphertext_with_mac = encryptor.update_encryptor(message)\n",
    "ciphertext_with_mac += encryptor.finalize_encryptor()\n",
    "\n",
    "print(ciphertext_with_mac.hex(' '))"
   ]
  },
  {
   "cell_type": "code",
   "execution_count": 14,
   "metadata": {},
   "outputs": [],
   "source": [
    "decryptor = Decryptor(\n",
    "    encryption_key=encryption_key,\n",
    "    nonce=nonce,\n",
    "    mac_type=Mac.CMAC,\n",
    "    mac_key=mac_key,\n",
    "    digest=Decryptor.get_mac(ciphertext_with_mac, Mac.CMAC)\n",
    ")"
   ]
  },
  {
   "cell_type": "markdown",
   "metadata": {},
   "source": [
    "Note that we are ignoring the last 16 bytes. This is because we are using CMAC:"
   ]
  },
  {
   "cell_type": "code",
   "execution_count": 15,
   "metadata": {},
   "outputs": [],
   "source": [
    "plaintext = decryptor.update_decryptor(ciphertext_with_mac[:-16])\n",
    "plaintext += decryptor.finalize_decryptor()"
   ]
  },
  {
   "cell_type": "code",
   "execution_count": 16,
   "metadata": {},
   "outputs": [
    {
     "name": "stdout",
     "output_type": "stream",
     "text": [
      "b'Hello Bob, how are you?'\n"
     ]
    }
   ],
   "source": [
    "print(plaintext)"
   ]
  },
  {
   "cell_type": "markdown",
   "metadata": {},
   "source": [
    "🚀🚀🚀🚀"
   ]
  }
 ],
 "metadata": {
  "kernelspec": {
   "display_name": "env",
   "language": "python",
   "name": "python3"
  },
  "language_info": {
   "codemirror_mode": {
    "name": "ipython",
    "version": 3
   },
   "file_extension": ".py",
   "mimetype": "text/x-python",
   "name": "python",
   "nbconvert_exporter": "python",
   "pygments_lexer": "ipython3",
   "version": "3.10.12"
  }
 },
 "nbformat": 4,
 "nbformat_minor": 2
}
