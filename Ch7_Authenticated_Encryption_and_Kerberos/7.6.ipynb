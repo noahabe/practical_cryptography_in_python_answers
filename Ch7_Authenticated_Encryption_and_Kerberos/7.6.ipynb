{
 "cells": [
  {
   "cell_type": "markdown",
   "metadata": {},
   "source": [
    "---\n",
    "order: 6\n",
    "title: \"7.6 CONFOUNDER\"\n",
    "---"
   ]
  },
  {
   "cell_type": "markdown",
   "metadata": {},
   "source": [
    "> EXERCISE 7.5: CONFOUNDER \n",
    "> \n",
    "> Check to see if any part of your encrypted packets are repeating.\n",
    "> This will happen if the data going into the encryption \n",
    "> routine (with a fixed IV and key) is the same at the beginning. \n",
    "> Because dictionaries do not necessarily order their data, the username\n",
    "> may come after the timestamp, in which case the packates may be different \n",
    "> each time. If your packets aren't repeating any bytes at all, perphaps \n",
    "> fix the timestamp or otherwise force the encrypt function to `encrypt` the \n",
    "> same data twice. \n",
    "> \n",
    "> Once you have repeating bytes, introduce confounders into your code by prepending\n",
    "> 16 bytes of random plaintext in front of the serialized bytes. Make sure to remove\n",
    "> it upon decryption. Does that get rid of the repeating bytes? Would a \n",
    "> confounder work for AES-CTR Mode?\n",
    "\n",
    "--------------------------------"
   ]
  }
 ],
 "metadata": {
  "language_info": {
   "name": "python"
  }
 },
 "nbformat": 4,
 "nbformat_minor": 2
}
