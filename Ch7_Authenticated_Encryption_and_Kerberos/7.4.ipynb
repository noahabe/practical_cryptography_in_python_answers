{
 "cells": [
  {
   "cell_type": "markdown",
   "metadata": {},
   "source": [
    "---\n",
    "order: 4\n",
    "title: \"7.4 WHAT'S IN A NAME?\"\n",
    "---"
   ]
  },
  {
   "cell_type": "markdown",
   "metadata": {},
   "source": [
    "> EXERCISE 7.4: WHAT'S IN A NAME? \n",
    "> \n",
    "> In many circumstances, \"read\" and \"write\" are the correct names to use \n",
    "> because despite calling one computer a client and one computer a server, \n",
    "> they behave as _equal_ peers. \n",
    "> \n",
    "> But, if you are dealing with a context where a client _only_\n",
    "> makes requests and the server _only_ responds to requests, you can rename\n",
    "> your keys appropriately. The echo client/server we have created is an example\n",
    "> of this pattern. \n",
    "> \n",
    "> Starting with the code in Listing 7-4 and 7-5, change all references to \"read\" \n",
    "> and \"write\" data or keys to be \"request\" and \"response\" instead. Name them \n",
    "> appropriately! The client writes a request and reads a response, while the \n",
    "> server reads a request and writes a response. What happens to the relationship \n",
    "> between client and server code? \n",
    "\n",
    "--------------------------------"
   ]
  }
 ],
 "metadata": {
  "kernelspec": {
   "display_name": "env",
   "language": "python",
   "name": "python3"
  },
  "language_info": {
   "name": "python",
   "version": "3.10.12"
  }
 },
 "nbformat": 4,
 "nbformat_minor": 2
}
