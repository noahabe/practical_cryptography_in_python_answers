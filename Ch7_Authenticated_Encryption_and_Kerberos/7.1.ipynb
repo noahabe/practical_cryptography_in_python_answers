{
 "cells": [
  {
   "cell_type": "markdown",
   "metadata": {},
   "source": [
    "---\n",
    "order: 1\n",
    "title: \"7.1 TAG! YOU'RE IT!\"\n",
    "---"
   ]
  },
  {
   "cell_type": "markdown",
   "metadata": {},
   "source": [
    "> EXERCISE 7.1 TAG! YOU'RE IT!\n",
    "> \n",
    "> Artificially \"damage\" different parts of an encrypted file \n",
    "> including both the actual ciphertext and the salt, IV, or tag. \n",
    "> Demonstrate that decrypting the file throws an exception. \n",
    "\n",
    "--------------------------------"
   ]
  },
  {
   "cell_type": "markdown",
   "metadata": {},
   "source": [
    "If we change a single bit from the output of the encrypted file, \n",
    "we will get an `InvalidTag` exception.  "
   ]
  },
  {
   "cell_type": "markdown",
   "metadata": {},
   "source": [
    "## Step 1: Let's first encrypt some file."
   ]
  },
  {
   "cell_type": "code",
   "execution_count": 1,
   "metadata": {},
   "outputs": [],
   "source": [
    "import aes_gcm\n",
    "\n",
    "aes_gcm.encrypt_file(\n",
    "    plainpath=\"top_secret.bin\",\n",
    "    cipherpath=\"top_secret_encrypted.bin\",\n",
    "    password=b\"secured123\",\n",
    ")\n"
   ]
  },
  {
   "cell_type": "markdown",
   "metadata": {},
   "source": [
    "## Step 2: Change a single byte from the encrypted file"
   ]
  },
  {
   "cell_type": "code",
   "execution_count": 2,
   "metadata": {},
   "outputs": [],
   "source": [
    "with open(\"top_secret_encrypted.bin\", 'rb') as src: \n",
    "    with open(\"top_secret_encrypted2.bin\", 'wb') as dest:\n",
    "        data = src.read()\n",
    "        first_byte = ((data[0] + 1) % 256).to_bytes(length=1, byteorder='little')\n",
    "        dest.write(first_byte + data[1:]) "
   ]
  },
  {
   "cell_type": "markdown",
   "metadata": {},
   "source": [
    "## Step 3: Try to decrypt the tampered file"
   ]
  },
  {
   "cell_type": "code",
   "execution_count": 5,
   "metadata": {},
   "outputs": [
    {
     "name": "stderr",
     "output_type": "stream",
     "text": [
      "Traceback (most recent call last):\n",
      "  File \"/tmp/ipykernel_119154/1648948399.py\", line 4, in <module>\n",
      "    aes_gcm.decrypt_file(\n",
      "  File \"/home/data53/code/repos/practical_cryptography_in_python_answers/Ch7_Authenticated_Encryption_and_Kerberos/aes_gcm.py\", line 94, in decrypt_file\n",
      "    decryptor.finalize()\n",
      "  File \"/home/data53/code/repos/practical_cryptography_in_python_answers/env/lib/python3.10/site-packages/cryptography/hazmat/primitives/ciphers/base.py\", line 228, in finalize\n",
      "    data = self._ctx.finalize()\n",
      "  File \"/home/data53/code/repos/practical_cryptography_in_python_answers/env/lib/python3.10/site-packages/cryptography/hazmat/backends/openssl/ciphers.py\", line 200, in finalize\n",
      "    raise InvalidTag\n",
      "cryptography.exceptions.InvalidTag\n"
     ]
    }
   ],
   "source": [
    "import traceback \n",
    "\n",
    "try: \n",
    "    aes_gcm.decrypt_file(\n",
    "        cipherpath=\"top_secret_encrypted2.bin\",\n",
    "        plainpath=\"top_secret2.bin\",\n",
    "        password=b\"secured123\",\n",
    "    )\n",
    "except Exception as e:\n",
    "    traceback.print_exc() \n"
   ]
  }
 ],
 "metadata": {
  "kernelspec": {
   "display_name": "env",
   "language": "python",
   "name": "python3"
  },
  "language_info": {
   "codemirror_mode": {
    "name": "ipython",
    "version": 3
   },
   "file_extension": ".py",
   "mimetype": "text/x-python",
   "name": "python",
   "nbconvert_exporter": "python",
   "pygments_lexer": "ipython3",
   "version": "3.10.12"
  }
 },
 "nbformat": 4,
 "nbformat_minor": 2
}
