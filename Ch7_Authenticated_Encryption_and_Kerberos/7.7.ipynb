{
 "cells": [
  {
   "cell_type": "markdown",
   "metadata": {},
   "source": [
    "---\n",
    "order: 7\n",
    "title: \"7.7 PREVENTING SERVER REPLAY\"\n",
    "---"
   ]
  },
  {
   "cell_type": "markdown",
   "metadata": {},
   "source": [
    "> EXERCISE 7.7: PREVENTING SERVER REPLAY \n",
    "> \n",
    "> The transmissions to the client from our AS and TGS\n",
    "> do not include a timestamp. With no timestamp and no nonce, \n",
    "> they can be completely replayed. Add timestamps into the user data \n",
    "> structures transmitted by both servers and modify the client code to \n",
    "> check them. \n",
    "\n",
    "--------------------------------"
   ]
  }
 ],
 "metadata": {
  "language_info": {
   "name": "python"
  }
 },
 "nbformat": 4,
 "nbformat_minor": 2
}
