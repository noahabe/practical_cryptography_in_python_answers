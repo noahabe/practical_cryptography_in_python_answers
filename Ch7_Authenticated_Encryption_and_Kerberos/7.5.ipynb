{
 "cells": [
  {
   "cell_type": "markdown",
   "metadata": {},
   "source": [
    "---\n",
    "order: 5\n",
    "title: \"7.5 KERBERIZE THE ECHO PROTOCOL\"\n",
    "---"
   ]
  },
  {
   "cell_type": "markdown",
   "metadata": {},
   "source": [
    "> EXERCISE 7.5: KERBERIZE THE ECHO PROTOCOL\n",
    "> \n",
    "> We didn't show any code for a Kerberized echo protocol. We've left that \n",
    "> for you to figure out. We have already set up some of the pieces you need, \n",
    "> however. In real Kerberos, a Kerberized service has to be registered with the \n",
    "> TGS. We have already done that. Our TGS code has \"echo\" in the service \n",
    "> database with a password \"sunshine\". \n",
    "> \n",
    "> You will need to modify the echo client and echo server to use the session key \n",
    "> from the TGS instead of deriving the session keys from a password. You can treat the \n",
    "> session key from the TGS as key material and still use the HKDF to derive the write key \n",
    "> and read key (two sub-session keys, as Kerberos would call them). \n",
    "> \n",
    "> Many Kerberized implementations accept the ticket along with the request, and you can \n",
    "> do the same here. In other words, send the Kerberos message along with the (encrypted) \n",
    "> data to be echoed. Because you are sending a human-readable message, you can use \n",
    "> the null terminator to indicate the end of the echo message and the beginning of the \n",
    "> Kerberos message, if that's easiest. Alternatively, you could do something more complicated \n",
    "> like transmit the Kerberos message first, perpended by its length, with the human-readable\n",
    "> echo message as a trailer. \n",
    "> \n",
    "> The server will also need to be modified to accept a password for deriving its key with the \n",
    "> TGS. The server already has a password given as a parameter. You could simply change \n",
    "> it to derive its Kerberos key instead of the read and write keys. Also, make sure to use \n",
    "> the appropriate derivation function. The read and write keys will need to be derived in the \n",
    "> `data_received` method after the ticket is received and decrypted. You can leave out the optional \n",
    "> Kerberos response to the echo client. \n",
    "> \n",
    "> Finally, you will have to figure out a way to get the Kerberos ticket data to the echo client. You \n",
    "> can either build the echo client protocol directly into your Kerberos client or find some other \n",
    "> way to transfer it. \n",
    "\n",
    "--------------------------------"
   ]
  },
  {
   "cell_type": "markdown",
   "metadata": {},
   "source": [
    "In protocol notation, this is what we have to build: "
   ]
  },
  {
   "cell_type": "markdown",
   "metadata": {},
   "source": [
    "$$A \\rightarrow S: \\{A, t_4\\}K_{A, S}, \\{A, K_{A, S}, t_3\\}K_S$$\n",
    "$$S \\rightarrow A: \\{t_4\\}K_{A, S}$$\n",
    "$$A \\rightarrow S: \\{\\text{\"hello world\"}\\}K_\\text{alice's write key}$$\n",
    "$$S \\rightarrow A: \\{\\text{\"hello world\"}\\}K_\\text{service's write key}$$"
   ]
  },
  {
   "cell_type": "markdown",
   "metadata": {},
   "source": [
    "### TODO"
   ]
  }
 ],
 "metadata": {
  "language_info": {
   "name": "python"
  }
 },
 "nbformat": 4,
 "nbformat_minor": 2
}
