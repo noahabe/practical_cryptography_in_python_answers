{
 "cells": [
  {
   "cell_type": "markdown",
   "metadata": {},
   "source": [
    "---\n",
    "order: 7\n",
    "title: \"8.7 WHO GOES THERE?\"\n",
    "---"
   ]
  },
  {
   "cell_type": "markdown",
   "metadata": {},
   "source": [
    "> EXERCISE 8.7: WHO GOES THERE? \n",
    "> \n",
    "> If you've been practicing with your HTTP proxy (specifically in the previous exercise), \n",
    "> you should already be getting a feel for the back and forth exchanges in TLS. So, now \n",
    "> that you know how a TLS handshake starts with the initial hellos, try to reverse engineer \n",
    "> it a little. Remember, this part of the communication is clear text! \n",
    "> \n",
    "> Can you figure out whether you're looking at a TLS 1.2 or 1.3 handshake? That's a great start!\n",
    "\n",
    "--------------------------------"
   ]
  }
 ],
 "metadata": {
  "language_info": {
   "name": "python"
  }
 },
 "nbformat": 4,
 "nbformat_minor": 2
}
