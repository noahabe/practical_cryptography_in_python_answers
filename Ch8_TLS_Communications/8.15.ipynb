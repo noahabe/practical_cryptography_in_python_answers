{
 "cells": [
  {
   "cell_type": "markdown",
   "metadata": {},
   "source": [
    "---\n",
    "order: 15\n",
    "title: \"8.15 LEARN TO POKE AROUND\"\n",
    "---"
   ]
  },
  {
   "cell_type": "markdown",
   "metadata": {},
   "source": [
    "> EXERCISE 8.15: LEARN TO POKE AROUND \n",
    "> \n",
    "> One of the best things you can do with your newly acquired (or improved) \n",
    "> cryptography knowledge is learn to poke around. Most of the example code for this \n",
    "> chapter was written as if executed in a Python shell on purpose. Get comfortable using \n",
    "> the shell to poke a server or test a connection. There are many tools for testing publicly \n",
    "> accessible TLS servers, but what about internal ones? If you find that your company is using \n",
    "> poor security for internal TLS connections, let IT know. It's important to be aware \n",
    "> of what's going on around you. \n",
    "> \n",
    "> With that in mind, write a diagnostic program in Python that connects to a given server \n",
    "> and looks for weak algorithms or configuration data. For example, you have seen \n",
    "> that the `SSLSocket` class has the `getpeercert()` method to get the remote certificate. \n",
    "> Write a program that, upon connecting to a server, obtains the certificate and reports if \n",
    "> the signature on the certificate uses a SHA-1 hash (very broken and unlikely) or still \n",
    "> supports RSA encryption (more probable). \n",
    "> \n",
    "> You can also use the `SSLSocket` object to check the current cipher using `cipher()`. \n",
    "> Which cipher suite is the server picking out of all the ones proposed? Is that a good choice?\n",
    "> \n",
    "> Building on this cipher check, change your Python `SSLContext` to only support weak ciphers. \n",
    "> That is, create a context that disables strong ciphers and re-enables weak ones. You can set \n",
    "> a context's ciphers using the `SSLContext.set_ciphers()` function. The list of available \n",
    "> cipher suites, for each version of TLS, can be found [here](http://www.openssl.org/docs/manmaster/man1/ciphers.html)\n",
    "> The goal of this test is to see if a servr is still supporting older, deprecated ciphers. \n",
    "> \n",
    "> Should your analysis tool uncover any weaknesses, report them to the appropriate IT or \n",
    "> administrative staff with recommendations for remediation. \n",
    "\n",
    "--------------------------------"
   ]
  }
 ],
 "metadata": {
  "language_info": {
   "name": "python"
  }
 },
 "nbformat": 4,
 "nbformat_minor": 2
}
