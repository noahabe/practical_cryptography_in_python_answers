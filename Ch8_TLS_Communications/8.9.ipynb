{
 "cells": [
  {
   "cell_type": "markdown",
   "metadata": {},
   "source": [
    "---\n",
    "order: 9\n",
    "title: \"8.9 KEY EXERCISES\"\n",
    "---"
   ]
  },
  {
   "cell_type": "markdown",
   "metadata": {},
   "source": [
    "> EXERCISE 8.9: KEY EXERCISES \n",
    "> \n",
    "> Try re-creating TLS's **key transport** and **key agreement** operations. \n",
    "> Let's start with key transport. Start by taking one of the RSA certificates you've\n",
    "> generated. If you were a browser, this is what you would receive over the wire. \n",
    "> Create a Python program to import the certificate, extract the RSA public key, \n",
    "> and use it to encrypt some random bytes (i.e. like a key) that you \n",
    "> write back to disk. \n",
    "> \n",
    "> There were already exercises in Chapter 6 for key agreement, even over a network. \n",
    "> If you didn't do those exercises, then maybe try it again now. \n",
    "\n",
    "--------------------------------"
   ]
  }
 ],
 "metadata": {
  "language_info": {
   "name": "python"
  }
 },
 "nbformat": 4,
 "nbformat_minor": 2
}
