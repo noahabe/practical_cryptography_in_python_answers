{
 "cells": [
  {
   "cell_type": "markdown",
   "metadata": {},
   "source": [
    "---\n",
    "order: 6\n",
    "title: \"8.6 CERTIFICATE MODIFICATION IN THE MIDDLE\"\n",
    "---"
   ]
  },
  {
   "cell_type": "markdown",
   "metadata": {},
   "source": [
    "> EXERCISE 8.6 CERTIFICATE MODIFICATION IN THE MIDDLE\n",
    "> \n",
    "> If you do manage to find when certificates are going over the wire, \n",
    "> modify your HTTP proxy program to intercept and modify them. \n",
    "> At the very least, you could just have a certificate of your own \n",
    "> pre-loaded that you send instead. How does your browser feel about \n",
    "> this? \n",
    "\n",
    "--------------------------------"
   ]
  }
 ],
 "metadata": {
  "language_info": {
   "name": "python"
  }
 },
 "nbformat": 4,
 "nbformat_minor": 2
}
