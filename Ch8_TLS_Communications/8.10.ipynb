{
 "cells": [
  {
   "cell_type": "markdown",
   "metadata": {},
   "source": [
    "---\n",
    "order: 10\n",
    "title: \"8.10 IMPLEMENT TH PRF\"\n",
    "---"
   ]
  },
  {
   "cell_type": "markdown",
   "metadata": {},
   "source": [
    "> EXERCISE 8.10: IMPLEMENT THE PRF \n",
    "> \n",
    "> Look in RFC 5246, available online, and loop up the PRF. \n",
    "> There is a description of how it works on page 13 and 14. \n",
    "> Implement the PRF for HMAC-SHA256 and try out some key \n",
    "> expansion. Generate a hundred bytes or so and divide some \n",
    "> up for different keys. \n",
    "\n",
    "--------------------------------"
   ]
  }
 ],
 "metadata": {
  "language_info": {
   "name": "python"
  }
 },
 "nbformat": 4,
 "nbformat_minor": 2
}
