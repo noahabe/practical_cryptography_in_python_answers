{
 "cells": [
  {
   "cell_type": "markdown",
   "metadata": {},
   "source": [
    "---\n",
    "order: 8\n",
    "title: \"8.8 CLIENT AUTHENTICATION RESEARCH\"\n",
    "---"
   ]
  },
  {
   "cell_type": "markdown",
   "metadata": {},
   "source": [
    "> EXERCISE 8.8 CLIENT AUTHENTICATION RESEARCH\n",
    "> \n",
    "> Mutual TLS is not used very frequently, but it is used. The authentication \n",
    "> of clients, even when certificates are used, is often a little different. \n",
    "> Do a little Internet search about how to configure a browser with a client \n",
    "> certificate, how one obtains such a certificate, and what kind of identifier \n",
    "> is chosen for the subject.\n",
    "\n",
    "--------------------------------"
   ]
  }
 ],
 "metadata": {
  "language_info": {
   "name": "python"
  }
 },
 "nbformat": 4,
 "nbformat_minor": 2
}
