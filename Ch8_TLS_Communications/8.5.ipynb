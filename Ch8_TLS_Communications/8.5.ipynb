{
 "cells": [
  {
   "cell_type": "markdown",
   "metadata": {},
   "source": [
    "---\n",
    "order: 5\n",
    "title: \"8.5 CERTIFICIATE INTERCEPT IN THE MIDDLE\"\n",
    "---"
   ]
  },
  {
   "cell_type": "markdown",
   "metadata": {},
   "source": [
    "> EXERCISE 8.5: CERTIFICATE INTERCEPT IN THE MIDDLE \n",
    "> \n",
    "> In the next section, we will talk about TLS, the security protocol that \n",
    "> underlies HTTPS. TLS relies on the certificiates you learned about in this section. \n",
    "> Going back to your HTTP proxy, intercept some more HTTPS traffic and see if you \n",
    "> can figure out when the certificate is being sent. \n",
    "> \n",
    "> This is a tough exercise and more for those interested in experimentation and \n",
    "> tinkering. As a hint, certificates are not sent in PEM format, but **DER**. This \n",
    "> is a binary format. But it's not _encrypted_. You can try poking around for \n",
    "> certain binary byte combinations. You could also use openssl to convert the crtificates you've\n",
    "> created into DER format and examine them in a hex editor to see if there \n",
    "> are common bytes to look for. \n",
    "\n",
    "--------------------------------"
   ]
  }
 ],
 "metadata": {
  "kernelspec": {
   "display_name": "env",
   "language": "python",
   "name": "python3"
  },
  "language_info": {
   "name": "python",
   "version": "3.10.12"
  }
 },
 "nbformat": 4,
 "nbformat_minor": 2
}
