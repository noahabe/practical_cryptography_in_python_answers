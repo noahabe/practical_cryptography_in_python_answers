{
 "cells": [
  {
   "cell_type": "markdown",
   "metadata": {},
   "source": [
    "---\n",
    "order: 1\n",
    "title: \"8.1: WHAT'S IN WEB TRAFFIC?\"\n",
    "---"
   ]
  },
  {
   "cell_type": "markdown",
   "metadata": {},
   "source": [
    "> EXERCISE 8.1: WHAT'S IN WEB TRAFFIC? \n",
    "> \n",
    "> Pretend to be Eve and examine some of your own encrypted traffic. \n",
    "> That is, configuring your browser to use your proxy, navigate to some \n",
    "> HTTP web sites and spy on your own data. Hint: Are there parts of \n",
    "> the secure communications that are still in plaintext? \n",
    "> \n",
    "> If you don't know how to configure your browser for proxying, please \n",
    "> do some searching on the search engine of your choice! Be aware that you \n",
    "> many not be able to configure your browser to use your proxy correctly \n",
    "> for unencrypted (HTTP) traffic. We personally tested Chrome and found \n",
    "> that it uses the `CONNECT` method for HTTPS but not for HTTP. \n",
    "\n",
    "--------------------------------"
   ]
  }
 ],
 "metadata": {
  "language_info": {
   "name": "python"
  }
 },
 "nbformat": 4,
 "nbformat_minor": 2
}
