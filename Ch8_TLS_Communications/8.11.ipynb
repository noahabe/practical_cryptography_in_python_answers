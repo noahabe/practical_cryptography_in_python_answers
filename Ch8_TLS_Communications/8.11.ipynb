{
 "cells": [
  {
   "cell_type": "markdown",
   "metadata": {},
   "source": [
    "---\n",
    "order: 11\n",
    "title: \"8.11 THE TLS 1.2 PIECES\"\n",
    "---"
   ]
  },
  {
   "cell_type": "markdown",
   "metadata": {},
   "source": [
    "> EXERCISE 8.11: THE TLS 1.2 PIECES \n",
    "> \n",
    "> Try stringing together something similar to TLS 1.2 from the other exercises \n",
    "> in the chapter so far. Exchange a certificate over the network (you can leave it in \n",
    "> PEM format if it's easier). Once you get the server's certificate, have the client either \n",
    "> send back a PMS encrypted or use ECDHE to generate the PMS on both sides. \n",
    "> \n",
    "> You can leave out all of TLS's complicated stuff. You don't need to negotiate cipher suites, \n",
    "> create an underlying record layer, or do the hash over all messages at the end. \n",
    "> Exchange a certificate, get a PMS, and derive some keys. For \"packet\" structure, you can use \n",
    "> the same JSON dictionaries you did for the Kerberos exercises. \n",
    "\n",
    "--------------------------------"
   ]
  }
 ],
 "metadata": {
  "language_info": {
   "name": "python"
  }
 },
 "nbformat": 4,
 "nbformat_minor": 2
}
